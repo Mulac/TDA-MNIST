{
  "nbformat": 4,
  "nbformat_minor": 0,
  "metadata": {
    "colab": {
      "name": "knn.ipynb",
      "provenance": [],
      "collapsed_sections": [],
      "authorship_tag": "ABX9TyPqfGAQZNYagEaJfpZySZzm",
      "include_colab_link": true
    },
    "kernelspec": {
      "name": "python3",
      "display_name": "Python 3"
    }
  },
  "cells": [
    {
      "cell_type": "markdown",
      "metadata": {
        "id": "view-in-github",
        "colab_type": "text"
      },
      "source": [
        "<a href=\"https://colab.research.google.com/github/Mulac/TDA-MNIST/blob/master/knn.ipynb\" target=\"_parent\"><img src=\"https://colab.research.google.com/assets/colab-badge.svg\" alt=\"Open In Colab\"/></a>"
      ]
    },
    {
      "cell_type": "code",
      "metadata": {
        "id": "isi4PJGyGJpU",
        "colab_type": "code",
        "colab": {}
      },
      "source": [
        "import numpy as np\n",
        "from sklearn.neighbors import KNeighborsClassifier\n",
        "from sklearn.metrics import classification_report\n",
        "from tensorflow.keras.datasets import mnist\n",
        "from timeit import default_timer as timer"
      ],
      "execution_count": 3,
      "outputs": []
    },
    {
      "cell_type": "markdown",
      "metadata": {
        "id": "j8887HoGiFAk",
        "colab_type": "text"
      },
      "source": [
        "# Prepare Data\n",
        "1. Download the training and test date from tensorflow\n",
        "2. Flatten the  2D 28 x 28 pixel arrays into a 1D 784 pixel array"
      ]
    },
    {
      "cell_type": "code",
      "metadata": {
        "id": "nPrglht1eJvj",
        "colab_type": "code",
        "colab": {}
      },
      "source": [
        "(train_data, train_labels), (test_data, test_labels) = mnist.load_data()\n",
        "\n",
        "train_data_flat = []\n",
        "for datapoint in train_data:\n",
        "  train_data_flat.append(datapoint.flatten())\n",
        "\n",
        "test_data_flat = []\n",
        "for datapoint in test_data:\n",
        "  test_data_flat.append(datapoint.flatten())\n"
      ],
      "execution_count": 4,
      "outputs": []
    },
    {
      "cell_type": "markdown",
      "metadata": {
        "id": "JJ_6NDPLjC8d",
        "colab_type": "text"
      },
      "source": [
        "# Create K Nearest Neighbour Model\n",
        "K is set to 1 for the most efficient model\n"
      ]
    },
    {
      "cell_type": "code",
      "metadata": {
        "id": "MApuv3oNkdnQ",
        "colab_type": "code",
        "colab": {}
      },
      "source": [
        "scores = {}\n",
        "train_times = {}\n",
        "test_times = {}\n",
        "for i in range (1,5):\n",
        "  nn_model = KNeighborsClassifier(n_neighbors=i)\n",
        "\n",
        "  start_train = timer()\n",
        "  nn_model.fit(train_data_flat,train_labels)\n",
        "  end_train = timer()\n",
        "  train_times[str(i)] = (end_train-start_train)\n",
        "  #print(f\"Neighbours {i} training finisihed in {end_train-start_train:.2f}s\")\n",
        "  \n",
        "  start_test = timer()\n",
        "  scores[str(i)] = nn_model.score(test_data_flat,test_labels)\n",
        "  end_test = timer()\n",
        "  test_times[str(i)] = (end_test-start_test)\n",
        "  #print(f\"Neighbours {i} testing finished in {end_test-start_test:.2f}s with accuracy {scores[str(i)]}s\")"
      ],
      "execution_count": null,
      "outputs": []
    },
    {
      "cell_type": "code",
      "metadata": {
        "id": "eUVSdhjvyipw",
        "colab_type": "code",
        "colab": {
          "base_uri": "https://localhost:8080/",
          "height": 164
        },
        "outputId": "fa7534bc-6957-462c-8309-e57c194a2c50"
      },
      "source": [
        "for x in scores:\n",
        "  print(f\"Num of neighbours: {x} \\tAccuracy: {scores[x]:.3f} \\tTraining time: {train_times[x]:.2f}s \\tTesting time: {test_times[x]:.2f}s\\n\")"
      ],
      "execution_count": 7,
      "outputs": [
        {
          "output_type": "stream",
          "text": [
            "Num of neighbours: 1 \tAccuracy: 0.969 \tTraining time: 16.15s \tTesting time: 974.09s\n",
            "\n",
            "Num of neighbours: 2 \tAccuracy: 0.963 \tTraining time: 15.51s \tTesting time: 973.88s\n",
            "\n",
            "Num of neighbours: 3 \tAccuracy: 0.971 \tTraining time: 15.53s \tTesting time: 974.09s\n",
            "\n",
            "Num of neighbours: 4 \tAccuracy: 0.968 \tTraining time: 16.27s \tTesting time: 969.00s\n",
            "\n"
          ],
          "name": "stdout"
        }
      ]
    },
    {
      "cell_type": "markdown",
      "metadata": {
        "id": "sNnARAa1j8CA",
        "colab_type": "text"
      },
      "source": [
        "# Testing the Model\n",
        "The results show a 97% accuracy"
      ]
    },
    {
      "cell_type": "code",
      "metadata": {
        "id": "fdfptTnxj0uy",
        "colab_type": "code",
        "colab": {}
      },
      "source": [
        "results = nn_model.predict(test_data_flat)\n"
      ],
      "execution_count": null,
      "outputs": []
    },
    {
      "cell_type": "code",
      "metadata": {
        "id": "fJqPbpqkkwVl",
        "colab_type": "code",
        "colab": {
          "base_uri": "https://localhost:8080/",
          "height": 348
        },
        "outputId": "f291cd23-48f3-4f98-fee9-fddfb49cc575"
      },
      "source": [
        "print(\"K Nearest Neighbour Results\")\n",
        "print(classification_report(test_labels, results))"
      ],
      "execution_count": null,
      "outputs": [
        {
          "output_type": "stream",
          "text": [
            "K Nearest Neighbour Results\n",
            "              precision    recall  f1-score   support\n",
            "\n",
            "           0       0.98      0.99      0.99       980\n",
            "           1       0.97      0.99      0.98      1135\n",
            "           2       0.98      0.96      0.97      1032\n",
            "           3       0.96      0.96      0.96      1010\n",
            "           4       0.97      0.96      0.97       982\n",
            "           5       0.95      0.96      0.96       892\n",
            "           6       0.98      0.99      0.98       958\n",
            "           7       0.96      0.96      0.96      1028\n",
            "           8       0.98      0.94      0.96       974\n",
            "           9       0.96      0.96      0.96      1009\n",
            "\n",
            "    accuracy                           0.97     10000\n",
            "   macro avg       0.97      0.97      0.97     10000\n",
            "weighted avg       0.97      0.97      0.97     10000\n",
            "\n"
          ],
          "name": "stdout"
        }
      ]
    },
    {
      "cell_type": "code",
      "metadata": {
        "id": "ar-S5JH1m2uQ",
        "colab_type": "code",
        "colab": {}
      },
      "source": [
        ""
      ],
      "execution_count": null,
      "outputs": []
    }
  ]
}