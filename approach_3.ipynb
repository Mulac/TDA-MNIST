{
  "nbformat": 4,
  "nbformat_minor": 0,
  "metadata": {
    "kernelspec": {
      "display_name": "Python 3",
      "language": "python",
      "name": "python3"
    },
    "language_info": {
      "codemirror_mode": {
        "name": "ipython",
        "version": 3
      },
      "file_extension": ".py",
      "mimetype": "text/x-python",
      "name": "python",
      "nbconvert_exporter": "python",
      "pygments_lexer": "ipython3",
      "version": "3.7.6"
    },
    "colab": {
      "name": "approach_3.ipynb",
      "provenance": [],
      "collapsed_sections": [],
      "include_colab_link": true
    },
    "accelerator": "GPU",
    "widgets": {
      "application/vnd.jupyter.widget-state+json": {
        "a1e44cb745ff4e79942619460fb43058": {
          "model_module": "@jupyter-widgets/controls",
          "model_name": "HBoxModel",
          "state": {
            "_view_name": "HBoxView",
            "_dom_classes": [],
            "_model_name": "HBoxModel",
            "_view_module": "@jupyter-widgets/controls",
            "_model_module_version": "1.5.0",
            "_view_count": null,
            "_view_module_version": "1.5.0",
            "box_style": "",
            "layout": "IPY_MODEL_b66c37276efe4e548cd04d2f7016d812",
            "_model_module": "@jupyter-widgets/controls",
            "children": [
              "IPY_MODEL_882b0a851b7e4d6b956eb8247df85b87",
              "IPY_MODEL_78e7af84ad384294a8566bcc12ba384c"
            ]
          }
        },
        "b66c37276efe4e548cd04d2f7016d812": {
          "model_module": "@jupyter-widgets/base",
          "model_name": "LayoutModel",
          "state": {
            "_view_name": "LayoutView",
            "grid_template_rows": null,
            "right": null,
            "justify_content": null,
            "_view_module": "@jupyter-widgets/base",
            "overflow": null,
            "_model_module_version": "1.2.0",
            "_view_count": null,
            "flex_flow": null,
            "width": null,
            "min_width": null,
            "border": null,
            "align_items": null,
            "bottom": null,
            "_model_module": "@jupyter-widgets/base",
            "top": null,
            "grid_column": null,
            "overflow_y": null,
            "overflow_x": null,
            "grid_auto_flow": null,
            "grid_area": null,
            "grid_template_columns": null,
            "flex": null,
            "_model_name": "LayoutModel",
            "justify_items": null,
            "grid_row": null,
            "max_height": null,
            "align_content": null,
            "visibility": null,
            "align_self": null,
            "height": null,
            "min_height": null,
            "padding": null,
            "grid_auto_rows": null,
            "grid_gap": null,
            "max_width": null,
            "order": null,
            "_view_module_version": "1.2.0",
            "grid_template_areas": null,
            "object_position": null,
            "object_fit": null,
            "grid_auto_columns": null,
            "margin": null,
            "display": null,
            "left": null
          }
        },
        "882b0a851b7e4d6b956eb8247df85b87": {
          "model_module": "@jupyter-widgets/controls",
          "model_name": "FloatProgressModel",
          "state": {
            "_view_name": "ProgressView",
            "style": "IPY_MODEL_e4b3a4ab5c1f4861b6d324b7f95e1ffb",
            "_dom_classes": [],
            "description": "",
            "_model_name": "FloatProgressModel",
            "bar_style": "info",
            "max": 1,
            "_view_module": "@jupyter-widgets/controls",
            "_model_module_version": "1.5.0",
            "value": 1,
            "_view_count": null,
            "_view_module_version": "1.5.0",
            "orientation": "horizontal",
            "min": 0,
            "description_tooltip": null,
            "_model_module": "@jupyter-widgets/controls",
            "layout": "IPY_MODEL_990f55c7a84e4592bb4aa0f01085f597"
          }
        },
        "78e7af84ad384294a8566bcc12ba384c": {
          "model_module": "@jupyter-widgets/controls",
          "model_name": "HTMLModel",
          "state": {
            "_view_name": "HTMLView",
            "style": "IPY_MODEL_08fbd3a24aac46bfa22508a97222226e",
            "_dom_classes": [],
            "description": "",
            "_model_name": "HTMLModel",
            "placeholder": "​",
            "_view_module": "@jupyter-widgets/controls",
            "_model_module_version": "1.5.0",
            "value": " 9920512/? [00:20&lt;00:00, 1917640.88it/s]",
            "_view_count": null,
            "_view_module_version": "1.5.0",
            "description_tooltip": null,
            "_model_module": "@jupyter-widgets/controls",
            "layout": "IPY_MODEL_dcb1ea701d0a42449df4435538ca560d"
          }
        },
        "e4b3a4ab5c1f4861b6d324b7f95e1ffb": {
          "model_module": "@jupyter-widgets/controls",
          "model_name": "ProgressStyleModel",
          "state": {
            "_view_name": "StyleView",
            "_model_name": "ProgressStyleModel",
            "description_width": "initial",
            "_view_module": "@jupyter-widgets/base",
            "_model_module_version": "1.5.0",
            "_view_count": null,
            "_view_module_version": "1.2.0",
            "bar_color": null,
            "_model_module": "@jupyter-widgets/controls"
          }
        },
        "990f55c7a84e4592bb4aa0f01085f597": {
          "model_module": "@jupyter-widgets/base",
          "model_name": "LayoutModel",
          "state": {
            "_view_name": "LayoutView",
            "grid_template_rows": null,
            "right": null,
            "justify_content": null,
            "_view_module": "@jupyter-widgets/base",
            "overflow": null,
            "_model_module_version": "1.2.0",
            "_view_count": null,
            "flex_flow": null,
            "width": null,
            "min_width": null,
            "border": null,
            "align_items": null,
            "bottom": null,
            "_model_module": "@jupyter-widgets/base",
            "top": null,
            "grid_column": null,
            "overflow_y": null,
            "overflow_x": null,
            "grid_auto_flow": null,
            "grid_area": null,
            "grid_template_columns": null,
            "flex": null,
            "_model_name": "LayoutModel",
            "justify_items": null,
            "grid_row": null,
            "max_height": null,
            "align_content": null,
            "visibility": null,
            "align_self": null,
            "height": null,
            "min_height": null,
            "padding": null,
            "grid_auto_rows": null,
            "grid_gap": null,
            "max_width": null,
            "order": null,
            "_view_module_version": "1.2.0",
            "grid_template_areas": null,
            "object_position": null,
            "object_fit": null,
            "grid_auto_columns": null,
            "margin": null,
            "display": null,
            "left": null
          }
        },
        "08fbd3a24aac46bfa22508a97222226e": {
          "model_module": "@jupyter-widgets/controls",
          "model_name": "DescriptionStyleModel",
          "state": {
            "_view_name": "StyleView",
            "_model_name": "DescriptionStyleModel",
            "description_width": "",
            "_view_module": "@jupyter-widgets/base",
            "_model_module_version": "1.5.0",
            "_view_count": null,
            "_view_module_version": "1.2.0",
            "_model_module": "@jupyter-widgets/controls"
          }
        },
        "dcb1ea701d0a42449df4435538ca560d": {
          "model_module": "@jupyter-widgets/base",
          "model_name": "LayoutModel",
          "state": {
            "_view_name": "LayoutView",
            "grid_template_rows": null,
            "right": null,
            "justify_content": null,
            "_view_module": "@jupyter-widgets/base",
            "overflow": null,
            "_model_module_version": "1.2.0",
            "_view_count": null,
            "flex_flow": null,
            "width": null,
            "min_width": null,
            "border": null,
            "align_items": null,
            "bottom": null,
            "_model_module": "@jupyter-widgets/base",
            "top": null,
            "grid_column": null,
            "overflow_y": null,
            "overflow_x": null,
            "grid_auto_flow": null,
            "grid_area": null,
            "grid_template_columns": null,
            "flex": null,
            "_model_name": "LayoutModel",
            "justify_items": null,
            "grid_row": null,
            "max_height": null,
            "align_content": null,
            "visibility": null,
            "align_self": null,
            "height": null,
            "min_height": null,
            "padding": null,
            "grid_auto_rows": null,
            "grid_gap": null,
            "max_width": null,
            "order": null,
            "_view_module_version": "1.2.0",
            "grid_template_areas": null,
            "object_position": null,
            "object_fit": null,
            "grid_auto_columns": null,
            "margin": null,
            "display": null,
            "left": null
          }
        },
        "43d897b379264a1181dee90ccd92d165": {
          "model_module": "@jupyter-widgets/controls",
          "model_name": "HBoxModel",
          "state": {
            "_view_name": "HBoxView",
            "_dom_classes": [],
            "_model_name": "HBoxModel",
            "_view_module": "@jupyter-widgets/controls",
            "_model_module_version": "1.5.0",
            "_view_count": null,
            "_view_module_version": "1.5.0",
            "box_style": "",
            "layout": "IPY_MODEL_23f3731b11874372b84a350f83c90bd8",
            "_model_module": "@jupyter-widgets/controls",
            "children": [
              "IPY_MODEL_a7a4e48842584bc9a8c6920c1e2875b1",
              "IPY_MODEL_187240f2fc654edf91657f4c1692b51f"
            ]
          }
        },
        "23f3731b11874372b84a350f83c90bd8": {
          "model_module": "@jupyter-widgets/base",
          "model_name": "LayoutModel",
          "state": {
            "_view_name": "LayoutView",
            "grid_template_rows": null,
            "right": null,
            "justify_content": null,
            "_view_module": "@jupyter-widgets/base",
            "overflow": null,
            "_model_module_version": "1.2.0",
            "_view_count": null,
            "flex_flow": null,
            "width": null,
            "min_width": null,
            "border": null,
            "align_items": null,
            "bottom": null,
            "_model_module": "@jupyter-widgets/base",
            "top": null,
            "grid_column": null,
            "overflow_y": null,
            "overflow_x": null,
            "grid_auto_flow": null,
            "grid_area": null,
            "grid_template_columns": null,
            "flex": null,
            "_model_name": "LayoutModel",
            "justify_items": null,
            "grid_row": null,
            "max_height": null,
            "align_content": null,
            "visibility": null,
            "align_self": null,
            "height": null,
            "min_height": null,
            "padding": null,
            "grid_auto_rows": null,
            "grid_gap": null,
            "max_width": null,
            "order": null,
            "_view_module_version": "1.2.0",
            "grid_template_areas": null,
            "object_position": null,
            "object_fit": null,
            "grid_auto_columns": null,
            "margin": null,
            "display": null,
            "left": null
          }
        },
        "a7a4e48842584bc9a8c6920c1e2875b1": {
          "model_module": "@jupyter-widgets/controls",
          "model_name": "FloatProgressModel",
          "state": {
            "_view_name": "ProgressView",
            "style": "IPY_MODEL_6a0dda6871944fc8879c98bc314b89a1",
            "_dom_classes": [],
            "description": "",
            "_model_name": "FloatProgressModel",
            "bar_style": "success",
            "max": 1,
            "_view_module": "@jupyter-widgets/controls",
            "_model_module_version": "1.5.0",
            "value": 1,
            "_view_count": null,
            "_view_module_version": "1.5.0",
            "orientation": "horizontal",
            "min": 0,
            "description_tooltip": null,
            "_model_module": "@jupyter-widgets/controls",
            "layout": "IPY_MODEL_7448c8d3bebf4532b726f04f2d86d2e4"
          }
        },
        "187240f2fc654edf91657f4c1692b51f": {
          "model_module": "@jupyter-widgets/controls",
          "model_name": "HTMLModel",
          "state": {
            "_view_name": "HTMLView",
            "style": "IPY_MODEL_4b1bd37157b041cf9650d781acef9d5e",
            "_dom_classes": [],
            "description": "",
            "_model_name": "HTMLModel",
            "placeholder": "​",
            "_view_module": "@jupyter-widgets/controls",
            "_model_module_version": "1.5.0",
            "value": " 32768/? [00:02&lt;00:00, 11888.82it/s]",
            "_view_count": null,
            "_view_module_version": "1.5.0",
            "description_tooltip": null,
            "_model_module": "@jupyter-widgets/controls",
            "layout": "IPY_MODEL_a282f5ca9757452d9ce1ee39d700fdd9"
          }
        },
        "6a0dda6871944fc8879c98bc314b89a1": {
          "model_module": "@jupyter-widgets/controls",
          "model_name": "ProgressStyleModel",
          "state": {
            "_view_name": "StyleView",
            "_model_name": "ProgressStyleModel",
            "description_width": "initial",
            "_view_module": "@jupyter-widgets/base",
            "_model_module_version": "1.5.0",
            "_view_count": null,
            "_view_module_version": "1.2.0",
            "bar_color": null,
            "_model_module": "@jupyter-widgets/controls"
          }
        },
        "7448c8d3bebf4532b726f04f2d86d2e4": {
          "model_module": "@jupyter-widgets/base",
          "model_name": "LayoutModel",
          "state": {
            "_view_name": "LayoutView",
            "grid_template_rows": null,
            "right": null,
            "justify_content": null,
            "_view_module": "@jupyter-widgets/base",
            "overflow": null,
            "_model_module_version": "1.2.0",
            "_view_count": null,
            "flex_flow": null,
            "width": null,
            "min_width": null,
            "border": null,
            "align_items": null,
            "bottom": null,
            "_model_module": "@jupyter-widgets/base",
            "top": null,
            "grid_column": null,
            "overflow_y": null,
            "overflow_x": null,
            "grid_auto_flow": null,
            "grid_area": null,
            "grid_template_columns": null,
            "flex": null,
            "_model_name": "LayoutModel",
            "justify_items": null,
            "grid_row": null,
            "max_height": null,
            "align_content": null,
            "visibility": null,
            "align_self": null,
            "height": null,
            "min_height": null,
            "padding": null,
            "grid_auto_rows": null,
            "grid_gap": null,
            "max_width": null,
            "order": null,
            "_view_module_version": "1.2.0",
            "grid_template_areas": null,
            "object_position": null,
            "object_fit": null,
            "grid_auto_columns": null,
            "margin": null,
            "display": null,
            "left": null
          }
        },
        "4b1bd37157b041cf9650d781acef9d5e": {
          "model_module": "@jupyter-widgets/controls",
          "model_name": "DescriptionStyleModel",
          "state": {
            "_view_name": "StyleView",
            "_model_name": "DescriptionStyleModel",
            "description_width": "",
            "_view_module": "@jupyter-widgets/base",
            "_model_module_version": "1.5.0",
            "_view_count": null,
            "_view_module_version": "1.2.0",
            "_model_module": "@jupyter-widgets/controls"
          }
        },
        "a282f5ca9757452d9ce1ee39d700fdd9": {
          "model_module": "@jupyter-widgets/base",
          "model_name": "LayoutModel",
          "state": {
            "_view_name": "LayoutView",
            "grid_template_rows": null,
            "right": null,
            "justify_content": null,
            "_view_module": "@jupyter-widgets/base",
            "overflow": null,
            "_model_module_version": "1.2.0",
            "_view_count": null,
            "flex_flow": null,
            "width": null,
            "min_width": null,
            "border": null,
            "align_items": null,
            "bottom": null,
            "_model_module": "@jupyter-widgets/base",
            "top": null,
            "grid_column": null,
            "overflow_y": null,
            "overflow_x": null,
            "grid_auto_flow": null,
            "grid_area": null,
            "grid_template_columns": null,
            "flex": null,
            "_model_name": "LayoutModel",
            "justify_items": null,
            "grid_row": null,
            "max_height": null,
            "align_content": null,
            "visibility": null,
            "align_self": null,
            "height": null,
            "min_height": null,
            "padding": null,
            "grid_auto_rows": null,
            "grid_gap": null,
            "max_width": null,
            "order": null,
            "_view_module_version": "1.2.0",
            "grid_template_areas": null,
            "object_position": null,
            "object_fit": null,
            "grid_auto_columns": null,
            "margin": null,
            "display": null,
            "left": null
          }
        },
        "91a227384fff48fa8388c6324ad25168": {
          "model_module": "@jupyter-widgets/controls",
          "model_name": "HBoxModel",
          "state": {
            "_view_name": "HBoxView",
            "_dom_classes": [],
            "_model_name": "HBoxModel",
            "_view_module": "@jupyter-widgets/controls",
            "_model_module_version": "1.5.0",
            "_view_count": null,
            "_view_module_version": "1.5.0",
            "box_style": "",
            "layout": "IPY_MODEL_7931a0fa5eb843a1997bd00a423997f3",
            "_model_module": "@jupyter-widgets/controls",
            "children": [
              "IPY_MODEL_40bb54cfbd844595be52968c41a7bb50",
              "IPY_MODEL_9d4a2a4ce49848db97ee13007a6c2975"
            ]
          }
        },
        "7931a0fa5eb843a1997bd00a423997f3": {
          "model_module": "@jupyter-widgets/base",
          "model_name": "LayoutModel",
          "state": {
            "_view_name": "LayoutView",
            "grid_template_rows": null,
            "right": null,
            "justify_content": null,
            "_view_module": "@jupyter-widgets/base",
            "overflow": null,
            "_model_module_version": "1.2.0",
            "_view_count": null,
            "flex_flow": null,
            "width": null,
            "min_width": null,
            "border": null,
            "align_items": null,
            "bottom": null,
            "_model_module": "@jupyter-widgets/base",
            "top": null,
            "grid_column": null,
            "overflow_y": null,
            "overflow_x": null,
            "grid_auto_flow": null,
            "grid_area": null,
            "grid_template_columns": null,
            "flex": null,
            "_model_name": "LayoutModel",
            "justify_items": null,
            "grid_row": null,
            "max_height": null,
            "align_content": null,
            "visibility": null,
            "align_self": null,
            "height": null,
            "min_height": null,
            "padding": null,
            "grid_auto_rows": null,
            "grid_gap": null,
            "max_width": null,
            "order": null,
            "_view_module_version": "1.2.0",
            "grid_template_areas": null,
            "object_position": null,
            "object_fit": null,
            "grid_auto_columns": null,
            "margin": null,
            "display": null,
            "left": null
          }
        },
        "40bb54cfbd844595be52968c41a7bb50": {
          "model_module": "@jupyter-widgets/controls",
          "model_name": "FloatProgressModel",
          "state": {
            "_view_name": "ProgressView",
            "style": "IPY_MODEL_63e13fead4aa4ab3bec9273e88a67b83",
            "_dom_classes": [],
            "description": "",
            "_model_name": "FloatProgressModel",
            "bar_style": "success",
            "max": 1,
            "_view_module": "@jupyter-widgets/controls",
            "_model_module_version": "1.5.0",
            "value": 1,
            "_view_count": null,
            "_view_module_version": "1.5.0",
            "orientation": "horizontal",
            "min": 0,
            "description_tooltip": null,
            "_model_module": "@jupyter-widgets/controls",
            "layout": "IPY_MODEL_8cf65c7981ba44c499e1dc02b155aaf9"
          }
        },
        "9d4a2a4ce49848db97ee13007a6c2975": {
          "model_module": "@jupyter-widgets/controls",
          "model_name": "HTMLModel",
          "state": {
            "_view_name": "HTMLView",
            "style": "IPY_MODEL_b92d3c5459274045bf8e5d9e42ac5ee1",
            "_dom_classes": [],
            "description": "",
            "_model_name": "HTMLModel",
            "placeholder": "​",
            "_view_module": "@jupyter-widgets/controls",
            "_model_module_version": "1.5.0",
            "value": " 1654784/? [00:00&lt;00:00, 2515346.91it/s]",
            "_view_count": null,
            "_view_module_version": "1.5.0",
            "description_tooltip": null,
            "_model_module": "@jupyter-widgets/controls",
            "layout": "IPY_MODEL_40966db0f1d94cbba2ac8d70759762c1"
          }
        },
        "63e13fead4aa4ab3bec9273e88a67b83": {
          "model_module": "@jupyter-widgets/controls",
          "model_name": "ProgressStyleModel",
          "state": {
            "_view_name": "StyleView",
            "_model_name": "ProgressStyleModel",
            "description_width": "initial",
            "_view_module": "@jupyter-widgets/base",
            "_model_module_version": "1.5.0",
            "_view_count": null,
            "_view_module_version": "1.2.0",
            "bar_color": null,
            "_model_module": "@jupyter-widgets/controls"
          }
        },
        "8cf65c7981ba44c499e1dc02b155aaf9": {
          "model_module": "@jupyter-widgets/base",
          "model_name": "LayoutModel",
          "state": {
            "_view_name": "LayoutView",
            "grid_template_rows": null,
            "right": null,
            "justify_content": null,
            "_view_module": "@jupyter-widgets/base",
            "overflow": null,
            "_model_module_version": "1.2.0",
            "_view_count": null,
            "flex_flow": null,
            "width": null,
            "min_width": null,
            "border": null,
            "align_items": null,
            "bottom": null,
            "_model_module": "@jupyter-widgets/base",
            "top": null,
            "grid_column": null,
            "overflow_y": null,
            "overflow_x": null,
            "grid_auto_flow": null,
            "grid_area": null,
            "grid_template_columns": null,
            "flex": null,
            "_model_name": "LayoutModel",
            "justify_items": null,
            "grid_row": null,
            "max_height": null,
            "align_content": null,
            "visibility": null,
            "align_self": null,
            "height": null,
            "min_height": null,
            "padding": null,
            "grid_auto_rows": null,
            "grid_gap": null,
            "max_width": null,
            "order": null,
            "_view_module_version": "1.2.0",
            "grid_template_areas": null,
            "object_position": null,
            "object_fit": null,
            "grid_auto_columns": null,
            "margin": null,
            "display": null,
            "left": null
          }
        },
        "b92d3c5459274045bf8e5d9e42ac5ee1": {
          "model_module": "@jupyter-widgets/controls",
          "model_name": "DescriptionStyleModel",
          "state": {
            "_view_name": "StyleView",
            "_model_name": "DescriptionStyleModel",
            "description_width": "",
            "_view_module": "@jupyter-widgets/base",
            "_model_module_version": "1.5.0",
            "_view_count": null,
            "_view_module_version": "1.2.0",
            "_model_module": "@jupyter-widgets/controls"
          }
        },
        "40966db0f1d94cbba2ac8d70759762c1": {
          "model_module": "@jupyter-widgets/base",
          "model_name": "LayoutModel",
          "state": {
            "_view_name": "LayoutView",
            "grid_template_rows": null,
            "right": null,
            "justify_content": null,
            "_view_module": "@jupyter-widgets/base",
            "overflow": null,
            "_model_module_version": "1.2.0",
            "_view_count": null,
            "flex_flow": null,
            "width": null,
            "min_width": null,
            "border": null,
            "align_items": null,
            "bottom": null,
            "_model_module": "@jupyter-widgets/base",
            "top": null,
            "grid_column": null,
            "overflow_y": null,
            "overflow_x": null,
            "grid_auto_flow": null,
            "grid_area": null,
            "grid_template_columns": null,
            "flex": null,
            "_model_name": "LayoutModel",
            "justify_items": null,
            "grid_row": null,
            "max_height": null,
            "align_content": null,
            "visibility": null,
            "align_self": null,
            "height": null,
            "min_height": null,
            "padding": null,
            "grid_auto_rows": null,
            "grid_gap": null,
            "max_width": null,
            "order": null,
            "_view_module_version": "1.2.0",
            "grid_template_areas": null,
            "object_position": null,
            "object_fit": null,
            "grid_auto_columns": null,
            "margin": null,
            "display": null,
            "left": null
          }
        },
        "c319873dfdf644ac82d77220f8a0252d": {
          "model_module": "@jupyter-widgets/controls",
          "model_name": "HBoxModel",
          "state": {
            "_view_name": "HBoxView",
            "_dom_classes": [],
            "_model_name": "HBoxModel",
            "_view_module": "@jupyter-widgets/controls",
            "_model_module_version": "1.5.0",
            "_view_count": null,
            "_view_module_version": "1.5.0",
            "box_style": "",
            "layout": "IPY_MODEL_b484d6fc89d84fd092dd762d2227180e",
            "_model_module": "@jupyter-widgets/controls",
            "children": [
              "IPY_MODEL_1cd13018f39a4b6fb7e7b3c0fb060ca9",
              "IPY_MODEL_917e19ad15244d23b7dbe8ea07f61c1d"
            ]
          }
        },
        "b484d6fc89d84fd092dd762d2227180e": {
          "model_module": "@jupyter-widgets/base",
          "model_name": "LayoutModel",
          "state": {
            "_view_name": "LayoutView",
            "grid_template_rows": null,
            "right": null,
            "justify_content": null,
            "_view_module": "@jupyter-widgets/base",
            "overflow": null,
            "_model_module_version": "1.2.0",
            "_view_count": null,
            "flex_flow": null,
            "width": null,
            "min_width": null,
            "border": null,
            "align_items": null,
            "bottom": null,
            "_model_module": "@jupyter-widgets/base",
            "top": null,
            "grid_column": null,
            "overflow_y": null,
            "overflow_x": null,
            "grid_auto_flow": null,
            "grid_area": null,
            "grid_template_columns": null,
            "flex": null,
            "_model_name": "LayoutModel",
            "justify_items": null,
            "grid_row": null,
            "max_height": null,
            "align_content": null,
            "visibility": null,
            "align_self": null,
            "height": null,
            "min_height": null,
            "padding": null,
            "grid_auto_rows": null,
            "grid_gap": null,
            "max_width": null,
            "order": null,
            "_view_module_version": "1.2.0",
            "grid_template_areas": null,
            "object_position": null,
            "object_fit": null,
            "grid_auto_columns": null,
            "margin": null,
            "display": null,
            "left": null
          }
        },
        "1cd13018f39a4b6fb7e7b3c0fb060ca9": {
          "model_module": "@jupyter-widgets/controls",
          "model_name": "FloatProgressModel",
          "state": {
            "_view_name": "ProgressView",
            "style": "IPY_MODEL_4d2e5337a54c4295a9a26f7f3415a225",
            "_dom_classes": [],
            "description": "",
            "_model_name": "FloatProgressModel",
            "bar_style": "success",
            "max": 1,
            "_view_module": "@jupyter-widgets/controls",
            "_model_module_version": "1.5.0",
            "value": 1,
            "_view_count": null,
            "_view_module_version": "1.5.0",
            "orientation": "horizontal",
            "min": 0,
            "description_tooltip": null,
            "_model_module": "@jupyter-widgets/controls",
            "layout": "IPY_MODEL_b3c9a43477074dcf8768e5b6452306f2"
          }
        },
        "917e19ad15244d23b7dbe8ea07f61c1d": {
          "model_module": "@jupyter-widgets/controls",
          "model_name": "HTMLModel",
          "state": {
            "_view_name": "HTMLView",
            "style": "IPY_MODEL_c67b254f503b40159a98a378585e2e09",
            "_dom_classes": [],
            "description": "",
            "_model_name": "HTMLModel",
            "placeholder": "​",
            "_view_module": "@jupyter-widgets/controls",
            "_model_module_version": "1.5.0",
            "value": " 8192/? [00:00&lt;00:00, 29589.27it/s]",
            "_view_count": null,
            "_view_module_version": "1.5.0",
            "description_tooltip": null,
            "_model_module": "@jupyter-widgets/controls",
            "layout": "IPY_MODEL_f145ceea50fb4bf5bb1b7a379beae5de"
          }
        },
        "4d2e5337a54c4295a9a26f7f3415a225": {
          "model_module": "@jupyter-widgets/controls",
          "model_name": "ProgressStyleModel",
          "state": {
            "_view_name": "StyleView",
            "_model_name": "ProgressStyleModel",
            "description_width": "initial",
            "_view_module": "@jupyter-widgets/base",
            "_model_module_version": "1.5.0",
            "_view_count": null,
            "_view_module_version": "1.2.0",
            "bar_color": null,
            "_model_module": "@jupyter-widgets/controls"
          }
        },
        "b3c9a43477074dcf8768e5b6452306f2": {
          "model_module": "@jupyter-widgets/base",
          "model_name": "LayoutModel",
          "state": {
            "_view_name": "LayoutView",
            "grid_template_rows": null,
            "right": null,
            "justify_content": null,
            "_view_module": "@jupyter-widgets/base",
            "overflow": null,
            "_model_module_version": "1.2.0",
            "_view_count": null,
            "flex_flow": null,
            "width": null,
            "min_width": null,
            "border": null,
            "align_items": null,
            "bottom": null,
            "_model_module": "@jupyter-widgets/base",
            "top": null,
            "grid_column": null,
            "overflow_y": null,
            "overflow_x": null,
            "grid_auto_flow": null,
            "grid_area": null,
            "grid_template_columns": null,
            "flex": null,
            "_model_name": "LayoutModel",
            "justify_items": null,
            "grid_row": null,
            "max_height": null,
            "align_content": null,
            "visibility": null,
            "align_self": null,
            "height": null,
            "min_height": null,
            "padding": null,
            "grid_auto_rows": null,
            "grid_gap": null,
            "max_width": null,
            "order": null,
            "_view_module_version": "1.2.0",
            "grid_template_areas": null,
            "object_position": null,
            "object_fit": null,
            "grid_auto_columns": null,
            "margin": null,
            "display": null,
            "left": null
          }
        },
        "c67b254f503b40159a98a378585e2e09": {
          "model_module": "@jupyter-widgets/controls",
          "model_name": "DescriptionStyleModel",
          "state": {
            "_view_name": "StyleView",
            "_model_name": "DescriptionStyleModel",
            "description_width": "",
            "_view_module": "@jupyter-widgets/base",
            "_model_module_version": "1.5.0",
            "_view_count": null,
            "_view_module_version": "1.2.0",
            "_model_module": "@jupyter-widgets/controls"
          }
        },
        "f145ceea50fb4bf5bb1b7a379beae5de": {
          "model_module": "@jupyter-widgets/base",
          "model_name": "LayoutModel",
          "state": {
            "_view_name": "LayoutView",
            "grid_template_rows": null,
            "right": null,
            "justify_content": null,
            "_view_module": "@jupyter-widgets/base",
            "overflow": null,
            "_model_module_version": "1.2.0",
            "_view_count": null,
            "flex_flow": null,
            "width": null,
            "min_width": null,
            "border": null,
            "align_items": null,
            "bottom": null,
            "_model_module": "@jupyter-widgets/base",
            "top": null,
            "grid_column": null,
            "overflow_y": null,
            "overflow_x": null,
            "grid_auto_flow": null,
            "grid_area": null,
            "grid_template_columns": null,
            "flex": null,
            "_model_name": "LayoutModel",
            "justify_items": null,
            "grid_row": null,
            "max_height": null,
            "align_content": null,
            "visibility": null,
            "align_self": null,
            "height": null,
            "min_height": null,
            "padding": null,
            "grid_auto_rows": null,
            "grid_gap": null,
            "max_width": null,
            "order": null,
            "_view_module_version": "1.2.0",
            "grid_template_areas": null,
            "object_position": null,
            "object_fit": null,
            "grid_auto_columns": null,
            "margin": null,
            "display": null,
            "left": null
          }
        },
        "ba76456726dd4b61a5a38e4d22393598": {
          "model_module": "@jupyter-widgets/controls",
          "model_name": "HBoxModel",
          "state": {
            "_view_name": "HBoxView",
            "_dom_classes": [],
            "_model_name": "HBoxModel",
            "_view_module": "@jupyter-widgets/controls",
            "_model_module_version": "1.5.0",
            "_view_count": null,
            "_view_module_version": "1.5.0",
            "box_style": "",
            "layout": "IPY_MODEL_818dd1bd5a4d4a5d938be16f7e348a69",
            "_model_module": "@jupyter-widgets/controls",
            "children": [
              "IPY_MODEL_7c99e60a7fcf4b6ca17fd6c7ab45f959",
              "IPY_MODEL_b78dad895679481eaab54b897762cf42"
            ]
          }
        },
        "818dd1bd5a4d4a5d938be16f7e348a69": {
          "model_module": "@jupyter-widgets/base",
          "model_name": "LayoutModel",
          "state": {
            "_view_name": "LayoutView",
            "grid_template_rows": null,
            "right": null,
            "justify_content": null,
            "_view_module": "@jupyter-widgets/base",
            "overflow": null,
            "_model_module_version": "1.2.0",
            "_view_count": null,
            "flex_flow": null,
            "width": null,
            "min_width": null,
            "border": null,
            "align_items": null,
            "bottom": null,
            "_model_module": "@jupyter-widgets/base",
            "top": null,
            "grid_column": null,
            "overflow_y": null,
            "overflow_x": null,
            "grid_auto_flow": null,
            "grid_area": null,
            "grid_template_columns": null,
            "flex": null,
            "_model_name": "LayoutModel",
            "justify_items": null,
            "grid_row": null,
            "max_height": null,
            "align_content": null,
            "visibility": null,
            "align_self": null,
            "height": null,
            "min_height": null,
            "padding": null,
            "grid_auto_rows": null,
            "grid_gap": null,
            "max_width": null,
            "order": null,
            "_view_module_version": "1.2.0",
            "grid_template_areas": null,
            "object_position": null,
            "object_fit": null,
            "grid_auto_columns": null,
            "margin": null,
            "display": null,
            "left": null
          }
        },
        "7c99e60a7fcf4b6ca17fd6c7ab45f959": {
          "model_module": "@jupyter-widgets/controls",
          "model_name": "FloatProgressModel",
          "state": {
            "_view_name": "ProgressView",
            "style": "IPY_MODEL_fc2fe2631da240b59c39c84698e91ff7",
            "_dom_classes": [],
            "description": "",
            "_model_name": "FloatProgressModel",
            "bar_style": "success",
            "max": 1,
            "_view_module": "@jupyter-widgets/controls",
            "_model_module_version": "1.5.0",
            "value": 1,
            "_view_count": null,
            "_view_module_version": "1.5.0",
            "orientation": "horizontal",
            "min": 0,
            "description_tooltip": null,
            "_model_module": "@jupyter-widgets/controls",
            "layout": "IPY_MODEL_7ef0ce92d21a48f29e2d87d44ea6be9e"
          }
        },
        "b78dad895679481eaab54b897762cf42": {
          "model_module": "@jupyter-widgets/controls",
          "model_name": "HTMLModel",
          "state": {
            "_view_name": "HTMLView",
            "style": "IPY_MODEL_ae43931c48234313a35a89c3f5365bc9",
            "_dom_classes": [],
            "description": "",
            "_model_name": "HTMLModel",
            "placeholder": "​",
            "_view_module": "@jupyter-widgets/controls",
            "_model_module_version": "1.5.0",
            "value": " 9920512/? [00:01&lt;00:00, 5039783.65it/s]",
            "_view_count": null,
            "_view_module_version": "1.5.0",
            "description_tooltip": null,
            "_model_module": "@jupyter-widgets/controls",
            "layout": "IPY_MODEL_55d669c4eb904fcfba1d644dadfa5de8"
          }
        },
        "fc2fe2631da240b59c39c84698e91ff7": {
          "model_module": "@jupyter-widgets/controls",
          "model_name": "ProgressStyleModel",
          "state": {
            "_view_name": "StyleView",
            "_model_name": "ProgressStyleModel",
            "description_width": "initial",
            "_view_module": "@jupyter-widgets/base",
            "_model_module_version": "1.5.0",
            "_view_count": null,
            "_view_module_version": "1.2.0",
            "bar_color": null,
            "_model_module": "@jupyter-widgets/controls"
          }
        },
        "7ef0ce92d21a48f29e2d87d44ea6be9e": {
          "model_module": "@jupyter-widgets/base",
          "model_name": "LayoutModel",
          "state": {
            "_view_name": "LayoutView",
            "grid_template_rows": null,
            "right": null,
            "justify_content": null,
            "_view_module": "@jupyter-widgets/base",
            "overflow": null,
            "_model_module_version": "1.2.0",
            "_view_count": null,
            "flex_flow": null,
            "width": null,
            "min_width": null,
            "border": null,
            "align_items": null,
            "bottom": null,
            "_model_module": "@jupyter-widgets/base",
            "top": null,
            "grid_column": null,
            "overflow_y": null,
            "overflow_x": null,
            "grid_auto_flow": null,
            "grid_area": null,
            "grid_template_columns": null,
            "flex": null,
            "_model_name": "LayoutModel",
            "justify_items": null,
            "grid_row": null,
            "max_height": null,
            "align_content": null,
            "visibility": null,
            "align_self": null,
            "height": null,
            "min_height": null,
            "padding": null,
            "grid_auto_rows": null,
            "grid_gap": null,
            "max_width": null,
            "order": null,
            "_view_module_version": "1.2.0",
            "grid_template_areas": null,
            "object_position": null,
            "object_fit": null,
            "grid_auto_columns": null,
            "margin": null,
            "display": null,
            "left": null
          }
        },
        "ae43931c48234313a35a89c3f5365bc9": {
          "model_module": "@jupyter-widgets/controls",
          "model_name": "DescriptionStyleModel",
          "state": {
            "_view_name": "StyleView",
            "_model_name": "DescriptionStyleModel",
            "description_width": "",
            "_view_module": "@jupyter-widgets/base",
            "_model_module_version": "1.5.0",
            "_view_count": null,
            "_view_module_version": "1.2.0",
            "_model_module": "@jupyter-widgets/controls"
          }
        },
        "55d669c4eb904fcfba1d644dadfa5de8": {
          "model_module": "@jupyter-widgets/base",
          "model_name": "LayoutModel",
          "state": {
            "_view_name": "LayoutView",
            "grid_template_rows": null,
            "right": null,
            "justify_content": null,
            "_view_module": "@jupyter-widgets/base",
            "overflow": null,
            "_model_module_version": "1.2.0",
            "_view_count": null,
            "flex_flow": null,
            "width": null,
            "min_width": null,
            "border": null,
            "align_items": null,
            "bottom": null,
            "_model_module": "@jupyter-widgets/base",
            "top": null,
            "grid_column": null,
            "overflow_y": null,
            "overflow_x": null,
            "grid_auto_flow": null,
            "grid_area": null,
            "grid_template_columns": null,
            "flex": null,
            "_model_name": "LayoutModel",
            "justify_items": null,
            "grid_row": null,
            "max_height": null,
            "align_content": null,
            "visibility": null,
            "align_self": null,
            "height": null,
            "min_height": null,
            "padding": null,
            "grid_auto_rows": null,
            "grid_gap": null,
            "max_width": null,
            "order": null,
            "_view_module_version": "1.2.0",
            "grid_template_areas": null,
            "object_position": null,
            "object_fit": null,
            "grid_auto_columns": null,
            "margin": null,
            "display": null,
            "left": null
          }
        },
        "2ae95cd859b4479ea7e7617b324e1a95": {
          "model_module": "@jupyter-widgets/controls",
          "model_name": "HBoxModel",
          "state": {
            "_view_name": "HBoxView",
            "_dom_classes": [],
            "_model_name": "HBoxModel",
            "_view_module": "@jupyter-widgets/controls",
            "_model_module_version": "1.5.0",
            "_view_count": null,
            "_view_module_version": "1.5.0",
            "box_style": "",
            "layout": "IPY_MODEL_d130f40157d941af9b9ee840c543e769",
            "_model_module": "@jupyter-widgets/controls",
            "children": [
              "IPY_MODEL_e0dab3336ff34848875261b44e16f6fb",
              "IPY_MODEL_241fefefcbbc47ceb360ee3342b6ca36"
            ]
          }
        },
        "d130f40157d941af9b9ee840c543e769": {
          "model_module": "@jupyter-widgets/base",
          "model_name": "LayoutModel",
          "state": {
            "_view_name": "LayoutView",
            "grid_template_rows": null,
            "right": null,
            "justify_content": null,
            "_view_module": "@jupyter-widgets/base",
            "overflow": null,
            "_model_module_version": "1.2.0",
            "_view_count": null,
            "flex_flow": null,
            "width": null,
            "min_width": null,
            "border": null,
            "align_items": null,
            "bottom": null,
            "_model_module": "@jupyter-widgets/base",
            "top": null,
            "grid_column": null,
            "overflow_y": null,
            "overflow_x": null,
            "grid_auto_flow": null,
            "grid_area": null,
            "grid_template_columns": null,
            "flex": null,
            "_model_name": "LayoutModel",
            "justify_items": null,
            "grid_row": null,
            "max_height": null,
            "align_content": null,
            "visibility": null,
            "align_self": null,
            "height": null,
            "min_height": null,
            "padding": null,
            "grid_auto_rows": null,
            "grid_gap": null,
            "max_width": null,
            "order": null,
            "_view_module_version": "1.2.0",
            "grid_template_areas": null,
            "object_position": null,
            "object_fit": null,
            "grid_auto_columns": null,
            "margin": null,
            "display": null,
            "left": null
          }
        },
        "e0dab3336ff34848875261b44e16f6fb": {
          "model_module": "@jupyter-widgets/controls",
          "model_name": "FloatProgressModel",
          "state": {
            "_view_name": "ProgressView",
            "style": "IPY_MODEL_6961a76a0435408b99843dfe60fd7bc7",
            "_dom_classes": [],
            "description": "",
            "_model_name": "FloatProgressModel",
            "bar_style": "success",
            "max": 1,
            "_view_module": "@jupyter-widgets/controls",
            "_model_module_version": "1.5.0",
            "value": 1,
            "_view_count": null,
            "_view_module_version": "1.5.0",
            "orientation": "horizontal",
            "min": 0,
            "description_tooltip": null,
            "_model_module": "@jupyter-widgets/controls",
            "layout": "IPY_MODEL_478eff150c004921970e34c51854e0bf"
          }
        },
        "241fefefcbbc47ceb360ee3342b6ca36": {
          "model_module": "@jupyter-widgets/controls",
          "model_name": "HTMLModel",
          "state": {
            "_view_name": "HTMLView",
            "style": "IPY_MODEL_a9f321f8cf6e4f1cab61e61adccd88ad",
            "_dom_classes": [],
            "description": "",
            "_model_name": "HTMLModel",
            "placeholder": "​",
            "_view_module": "@jupyter-widgets/controls",
            "_model_module_version": "1.5.0",
            "value": " 32768/? [00:00&lt;00:00, 40833.47it/s]",
            "_view_count": null,
            "_view_module_version": "1.5.0",
            "description_tooltip": null,
            "_model_module": "@jupyter-widgets/controls",
            "layout": "IPY_MODEL_6b105173950a4ca194eec34f546d2ac6"
          }
        },
        "6961a76a0435408b99843dfe60fd7bc7": {
          "model_module": "@jupyter-widgets/controls",
          "model_name": "ProgressStyleModel",
          "state": {
            "_view_name": "StyleView",
            "_model_name": "ProgressStyleModel",
            "description_width": "initial",
            "_view_module": "@jupyter-widgets/base",
            "_model_module_version": "1.5.0",
            "_view_count": null,
            "_view_module_version": "1.2.0",
            "bar_color": null,
            "_model_module": "@jupyter-widgets/controls"
          }
        },
        "478eff150c004921970e34c51854e0bf": {
          "model_module": "@jupyter-widgets/base",
          "model_name": "LayoutModel",
          "state": {
            "_view_name": "LayoutView",
            "grid_template_rows": null,
            "right": null,
            "justify_content": null,
            "_view_module": "@jupyter-widgets/base",
            "overflow": null,
            "_model_module_version": "1.2.0",
            "_view_count": null,
            "flex_flow": null,
            "width": null,
            "min_width": null,
            "border": null,
            "align_items": null,
            "bottom": null,
            "_model_module": "@jupyter-widgets/base",
            "top": null,
            "grid_column": null,
            "overflow_y": null,
            "overflow_x": null,
            "grid_auto_flow": null,
            "grid_area": null,
            "grid_template_columns": null,
            "flex": null,
            "_model_name": "LayoutModel",
            "justify_items": null,
            "grid_row": null,
            "max_height": null,
            "align_content": null,
            "visibility": null,
            "align_self": null,
            "height": null,
            "min_height": null,
            "padding": null,
            "grid_auto_rows": null,
            "grid_gap": null,
            "max_width": null,
            "order": null,
            "_view_module_version": "1.2.0",
            "grid_template_areas": null,
            "object_position": null,
            "object_fit": null,
            "grid_auto_columns": null,
            "margin": null,
            "display": null,
            "left": null
          }
        },
        "a9f321f8cf6e4f1cab61e61adccd88ad": {
          "model_module": "@jupyter-widgets/controls",
          "model_name": "DescriptionStyleModel",
          "state": {
            "_view_name": "StyleView",
            "_model_name": "DescriptionStyleModel",
            "description_width": "",
            "_view_module": "@jupyter-widgets/base",
            "_model_module_version": "1.5.0",
            "_view_count": null,
            "_view_module_version": "1.2.0",
            "_model_module": "@jupyter-widgets/controls"
          }
        },
        "6b105173950a4ca194eec34f546d2ac6": {
          "model_module": "@jupyter-widgets/base",
          "model_name": "LayoutModel",
          "state": {
            "_view_name": "LayoutView",
            "grid_template_rows": null,
            "right": null,
            "justify_content": null,
            "_view_module": "@jupyter-widgets/base",
            "overflow": null,
            "_model_module_version": "1.2.0",
            "_view_count": null,
            "flex_flow": null,
            "width": null,
            "min_width": null,
            "border": null,
            "align_items": null,
            "bottom": null,
            "_model_module": "@jupyter-widgets/base",
            "top": null,
            "grid_column": null,
            "overflow_y": null,
            "overflow_x": null,
            "grid_auto_flow": null,
            "grid_area": null,
            "grid_template_columns": null,
            "flex": null,
            "_model_name": "LayoutModel",
            "justify_items": null,
            "grid_row": null,
            "max_height": null,
            "align_content": null,
            "visibility": null,
            "align_self": null,
            "height": null,
            "min_height": null,
            "padding": null,
            "grid_auto_rows": null,
            "grid_gap": null,
            "max_width": null,
            "order": null,
            "_view_module_version": "1.2.0",
            "grid_template_areas": null,
            "object_position": null,
            "object_fit": null,
            "grid_auto_columns": null,
            "margin": null,
            "display": null,
            "left": null
          }
        },
        "ed8e32cf203b422ca063f585aa2b48a6": {
          "model_module": "@jupyter-widgets/controls",
          "model_name": "HBoxModel",
          "state": {
            "_view_name": "HBoxView",
            "_dom_classes": [],
            "_model_name": "HBoxModel",
            "_view_module": "@jupyter-widgets/controls",
            "_model_module_version": "1.5.0",
            "_view_count": null,
            "_view_module_version": "1.5.0",
            "box_style": "",
            "layout": "IPY_MODEL_c5adf4b507d447cfabf59066b81a70c5",
            "_model_module": "@jupyter-widgets/controls",
            "children": [
              "IPY_MODEL_8251b9de54f046948812a89687d50f1a",
              "IPY_MODEL_60598010f1e443edb93f7d3c17d8c11e"
            ]
          }
        },
        "c5adf4b507d447cfabf59066b81a70c5": {
          "model_module": "@jupyter-widgets/base",
          "model_name": "LayoutModel",
          "state": {
            "_view_name": "LayoutView",
            "grid_template_rows": null,
            "right": null,
            "justify_content": null,
            "_view_module": "@jupyter-widgets/base",
            "overflow": null,
            "_model_module_version": "1.2.0",
            "_view_count": null,
            "flex_flow": null,
            "width": null,
            "min_width": null,
            "border": null,
            "align_items": null,
            "bottom": null,
            "_model_module": "@jupyter-widgets/base",
            "top": null,
            "grid_column": null,
            "overflow_y": null,
            "overflow_x": null,
            "grid_auto_flow": null,
            "grid_area": null,
            "grid_template_columns": null,
            "flex": null,
            "_model_name": "LayoutModel",
            "justify_items": null,
            "grid_row": null,
            "max_height": null,
            "align_content": null,
            "visibility": null,
            "align_self": null,
            "height": null,
            "min_height": null,
            "padding": null,
            "grid_auto_rows": null,
            "grid_gap": null,
            "max_width": null,
            "order": null,
            "_view_module_version": "1.2.0",
            "grid_template_areas": null,
            "object_position": null,
            "object_fit": null,
            "grid_auto_columns": null,
            "margin": null,
            "display": null,
            "left": null
          }
        },
        "8251b9de54f046948812a89687d50f1a": {
          "model_module": "@jupyter-widgets/controls",
          "model_name": "FloatProgressModel",
          "state": {
            "_view_name": "ProgressView",
            "style": "IPY_MODEL_ed27ff7090084ed4a096e534cd4bcece",
            "_dom_classes": [],
            "description": "",
            "_model_name": "FloatProgressModel",
            "bar_style": "success",
            "max": 1,
            "_view_module": "@jupyter-widgets/controls",
            "_model_module_version": "1.5.0",
            "value": 1,
            "_view_count": null,
            "_view_module_version": "1.5.0",
            "orientation": "horizontal",
            "min": 0,
            "description_tooltip": null,
            "_model_module": "@jupyter-widgets/controls",
            "layout": "IPY_MODEL_8da07ffa54de46c0ad7952a72a728250"
          }
        },
        "60598010f1e443edb93f7d3c17d8c11e": {
          "model_module": "@jupyter-widgets/controls",
          "model_name": "HTMLModel",
          "state": {
            "_view_name": "HTMLView",
            "style": "IPY_MODEL_94108f34efc04350a1ecf7ea54abed46",
            "_dom_classes": [],
            "description": "",
            "_model_name": "HTMLModel",
            "placeholder": "​",
            "_view_module": "@jupyter-widgets/controls",
            "_model_module_version": "1.5.0",
            "value": " 1654784/? [00:00&lt;00:00, 2632077.45it/s]",
            "_view_count": null,
            "_view_module_version": "1.5.0",
            "description_tooltip": null,
            "_model_module": "@jupyter-widgets/controls",
            "layout": "IPY_MODEL_f5ea059e53704716ac4d41d986f1e8a4"
          }
        },
        "ed27ff7090084ed4a096e534cd4bcece": {
          "model_module": "@jupyter-widgets/controls",
          "model_name": "ProgressStyleModel",
          "state": {
            "_view_name": "StyleView",
            "_model_name": "ProgressStyleModel",
            "description_width": "initial",
            "_view_module": "@jupyter-widgets/base",
            "_model_module_version": "1.5.0",
            "_view_count": null,
            "_view_module_version": "1.2.0",
            "bar_color": null,
            "_model_module": "@jupyter-widgets/controls"
          }
        },
        "8da07ffa54de46c0ad7952a72a728250": {
          "model_module": "@jupyter-widgets/base",
          "model_name": "LayoutModel",
          "state": {
            "_view_name": "LayoutView",
            "grid_template_rows": null,
            "right": null,
            "justify_content": null,
            "_view_module": "@jupyter-widgets/base",
            "overflow": null,
            "_model_module_version": "1.2.0",
            "_view_count": null,
            "flex_flow": null,
            "width": null,
            "min_width": null,
            "border": null,
            "align_items": null,
            "bottom": null,
            "_model_module": "@jupyter-widgets/base",
            "top": null,
            "grid_column": null,
            "overflow_y": null,
            "overflow_x": null,
            "grid_auto_flow": null,
            "grid_area": null,
            "grid_template_columns": null,
            "flex": null,
            "_model_name": "LayoutModel",
            "justify_items": null,
            "grid_row": null,
            "max_height": null,
            "align_content": null,
            "visibility": null,
            "align_self": null,
            "height": null,
            "min_height": null,
            "padding": null,
            "grid_auto_rows": null,
            "grid_gap": null,
            "max_width": null,
            "order": null,
            "_view_module_version": "1.2.0",
            "grid_template_areas": null,
            "object_position": null,
            "object_fit": null,
            "grid_auto_columns": null,
            "margin": null,
            "display": null,
            "left": null
          }
        },
        "94108f34efc04350a1ecf7ea54abed46": {
          "model_module": "@jupyter-widgets/controls",
          "model_name": "DescriptionStyleModel",
          "state": {
            "_view_name": "StyleView",
            "_model_name": "DescriptionStyleModel",
            "description_width": "",
            "_view_module": "@jupyter-widgets/base",
            "_model_module_version": "1.5.0",
            "_view_count": null,
            "_view_module_version": "1.2.0",
            "_model_module": "@jupyter-widgets/controls"
          }
        },
        "f5ea059e53704716ac4d41d986f1e8a4": {
          "model_module": "@jupyter-widgets/base",
          "model_name": "LayoutModel",
          "state": {
            "_view_name": "LayoutView",
            "grid_template_rows": null,
            "right": null,
            "justify_content": null,
            "_view_module": "@jupyter-widgets/base",
            "overflow": null,
            "_model_module_version": "1.2.0",
            "_view_count": null,
            "flex_flow": null,
            "width": null,
            "min_width": null,
            "border": null,
            "align_items": null,
            "bottom": null,
            "_model_module": "@jupyter-widgets/base",
            "top": null,
            "grid_column": null,
            "overflow_y": null,
            "overflow_x": null,
            "grid_auto_flow": null,
            "grid_area": null,
            "grid_template_columns": null,
            "flex": null,
            "_model_name": "LayoutModel",
            "justify_items": null,
            "grid_row": null,
            "max_height": null,
            "align_content": null,
            "visibility": null,
            "align_self": null,
            "height": null,
            "min_height": null,
            "padding": null,
            "grid_auto_rows": null,
            "grid_gap": null,
            "max_width": null,
            "order": null,
            "_view_module_version": "1.2.0",
            "grid_template_areas": null,
            "object_position": null,
            "object_fit": null,
            "grid_auto_columns": null,
            "margin": null,
            "display": null,
            "left": null
          }
        },
        "92d9d248d5f9428cbc28e41c38926ab4": {
          "model_module": "@jupyter-widgets/controls",
          "model_name": "HBoxModel",
          "state": {
            "_view_name": "HBoxView",
            "_dom_classes": [],
            "_model_name": "HBoxModel",
            "_view_module": "@jupyter-widgets/controls",
            "_model_module_version": "1.5.0",
            "_view_count": null,
            "_view_module_version": "1.5.0",
            "box_style": "",
            "layout": "IPY_MODEL_8440b0d4e1dc4eababf0895f80b87434",
            "_model_module": "@jupyter-widgets/controls",
            "children": [
              "IPY_MODEL_0100896ec84945d5a989fc7296ded676",
              "IPY_MODEL_0b463a5de11442ff8e662d6dcc0ffee3"
            ]
          }
        },
        "8440b0d4e1dc4eababf0895f80b87434": {
          "model_module": "@jupyter-widgets/base",
          "model_name": "LayoutModel",
          "state": {
            "_view_name": "LayoutView",
            "grid_template_rows": null,
            "right": null,
            "justify_content": null,
            "_view_module": "@jupyter-widgets/base",
            "overflow": null,
            "_model_module_version": "1.2.0",
            "_view_count": null,
            "flex_flow": null,
            "width": null,
            "min_width": null,
            "border": null,
            "align_items": null,
            "bottom": null,
            "_model_module": "@jupyter-widgets/base",
            "top": null,
            "grid_column": null,
            "overflow_y": null,
            "overflow_x": null,
            "grid_auto_flow": null,
            "grid_area": null,
            "grid_template_columns": null,
            "flex": null,
            "_model_name": "LayoutModel",
            "justify_items": null,
            "grid_row": null,
            "max_height": null,
            "align_content": null,
            "visibility": null,
            "align_self": null,
            "height": null,
            "min_height": null,
            "padding": null,
            "grid_auto_rows": null,
            "grid_gap": null,
            "max_width": null,
            "order": null,
            "_view_module_version": "1.2.0",
            "grid_template_areas": null,
            "object_position": null,
            "object_fit": null,
            "grid_auto_columns": null,
            "margin": null,
            "display": null,
            "left": null
          }
        },
        "0100896ec84945d5a989fc7296ded676": {
          "model_module": "@jupyter-widgets/controls",
          "model_name": "FloatProgressModel",
          "state": {
            "_view_name": "ProgressView",
            "style": "IPY_MODEL_f3a24af18ddf489aace71107a9994320",
            "_dom_classes": [],
            "description": "",
            "_model_name": "FloatProgressModel",
            "bar_style": "success",
            "max": 1,
            "_view_module": "@jupyter-widgets/controls",
            "_model_module_version": "1.5.0",
            "value": 1,
            "_view_count": null,
            "_view_module_version": "1.5.0",
            "orientation": "horizontal",
            "min": 0,
            "description_tooltip": null,
            "_model_module": "@jupyter-widgets/controls",
            "layout": "IPY_MODEL_c70d8fe8d2d941feabfa1c8b39e4af86"
          }
        },
        "0b463a5de11442ff8e662d6dcc0ffee3": {
          "model_module": "@jupyter-widgets/controls",
          "model_name": "HTMLModel",
          "state": {
            "_view_name": "HTMLView",
            "style": "IPY_MODEL_21dd7200f74245589f6e60dcaa7a29e4",
            "_dom_classes": [],
            "description": "",
            "_model_name": "HTMLModel",
            "placeholder": "​",
            "_view_module": "@jupyter-widgets/controls",
            "_model_module_version": "1.5.0",
            "value": " 8192/? [00:00&lt;00:00, 31684.34it/s]",
            "_view_count": null,
            "_view_module_version": "1.5.0",
            "description_tooltip": null,
            "_model_module": "@jupyter-widgets/controls",
            "layout": "IPY_MODEL_83be4ba0636146f9bdfd7b94116c5f30"
          }
        },
        "f3a24af18ddf489aace71107a9994320": {
          "model_module": "@jupyter-widgets/controls",
          "model_name": "ProgressStyleModel",
          "state": {
            "_view_name": "StyleView",
            "_model_name": "ProgressStyleModel",
            "description_width": "initial",
            "_view_module": "@jupyter-widgets/base",
            "_model_module_version": "1.5.0",
            "_view_count": null,
            "_view_module_version": "1.2.0",
            "bar_color": null,
            "_model_module": "@jupyter-widgets/controls"
          }
        },
        "c70d8fe8d2d941feabfa1c8b39e4af86": {
          "model_module": "@jupyter-widgets/base",
          "model_name": "LayoutModel",
          "state": {
            "_view_name": "LayoutView",
            "grid_template_rows": null,
            "right": null,
            "justify_content": null,
            "_view_module": "@jupyter-widgets/base",
            "overflow": null,
            "_model_module_version": "1.2.0",
            "_view_count": null,
            "flex_flow": null,
            "width": null,
            "min_width": null,
            "border": null,
            "align_items": null,
            "bottom": null,
            "_model_module": "@jupyter-widgets/base",
            "top": null,
            "grid_column": null,
            "overflow_y": null,
            "overflow_x": null,
            "grid_auto_flow": null,
            "grid_area": null,
            "grid_template_columns": null,
            "flex": null,
            "_model_name": "LayoutModel",
            "justify_items": null,
            "grid_row": null,
            "max_height": null,
            "align_content": null,
            "visibility": null,
            "align_self": null,
            "height": null,
            "min_height": null,
            "padding": null,
            "grid_auto_rows": null,
            "grid_gap": null,
            "max_width": null,
            "order": null,
            "_view_module_version": "1.2.0",
            "grid_template_areas": null,
            "object_position": null,
            "object_fit": null,
            "grid_auto_columns": null,
            "margin": null,
            "display": null,
            "left": null
          }
        },
        "21dd7200f74245589f6e60dcaa7a29e4": {
          "model_module": "@jupyter-widgets/controls",
          "model_name": "DescriptionStyleModel",
          "state": {
            "_view_name": "StyleView",
            "_model_name": "DescriptionStyleModel",
            "description_width": "",
            "_view_module": "@jupyter-widgets/base",
            "_model_module_version": "1.5.0",
            "_view_count": null,
            "_view_module_version": "1.2.0",
            "_model_module": "@jupyter-widgets/controls"
          }
        },
        "83be4ba0636146f9bdfd7b94116c5f30": {
          "model_module": "@jupyter-widgets/base",
          "model_name": "LayoutModel",
          "state": {
            "_view_name": "LayoutView",
            "grid_template_rows": null,
            "right": null,
            "justify_content": null,
            "_view_module": "@jupyter-widgets/base",
            "overflow": null,
            "_model_module_version": "1.2.0",
            "_view_count": null,
            "flex_flow": null,
            "width": null,
            "min_width": null,
            "border": null,
            "align_items": null,
            "bottom": null,
            "_model_module": "@jupyter-widgets/base",
            "top": null,
            "grid_column": null,
            "overflow_y": null,
            "overflow_x": null,
            "grid_auto_flow": null,
            "grid_area": null,
            "grid_template_columns": null,
            "flex": null,
            "_model_name": "LayoutModel",
            "justify_items": null,
            "grid_row": null,
            "max_height": null,
            "align_content": null,
            "visibility": null,
            "align_self": null,
            "height": null,
            "min_height": null,
            "padding": null,
            "grid_auto_rows": null,
            "grid_gap": null,
            "max_width": null,
            "order": null,
            "_view_module_version": "1.2.0",
            "grid_template_areas": null,
            "object_position": null,
            "object_fit": null,
            "grid_auto_columns": null,
            "margin": null,
            "display": null,
            "left": null
          }
        }
      }
    }
  },
  "cells": [
    {
      "cell_type": "markdown",
      "metadata": {
        "id": "view-in-github",
        "colab_type": "text"
      },
      "source": [
        "<a href=\"https://colab.research.google.com/github/Mulac/TDA-MNIST/blob/master/approach_3.ipynb\" target=\"_parent\"><img src=\"https://colab.research.google.com/assets/colab-badge.svg\" alt=\"Open In Colab\"/></a>"
      ]
    },
    {
      "cell_type": "code",
      "metadata": {
        "id": "GO6p1DzIOALT",
        "colab_type": "code",
        "colab": {}
      },
      "source": [
        "import torch\n",
        "import torch.nn as nn\n",
        "import torch.nn.functional as F\n",
        "import torchvision\n",
        "from torchvision import transforms\n",
        "import numpy as np \n",
        "import matplotlib.pyplot as plt\n",
        "from skimage.util import random_noise\n",
        "from time import perf_counter"
      ],
      "execution_count": 1,
      "outputs": []
    },
    {
      "cell_type": "markdown",
      "metadata": {
        "id": "9ys2OYV7OALc",
        "colab_type": "text"
      },
      "source": [
        "## Prepare Data\n",
        "1. Download data and apply tranformations"
      ]
    },
    {
      "cell_type": "code",
      "metadata": {
        "id": "xwfTBG6DgR0v",
        "colab_type": "code",
        "colab": {}
      },
      "source": [
        "tfms_train = transforms.Compose([transforms.Resize(size=28),\n",
        "                                 transforms.ToTensor()])\n",
        "tfms_valid = transforms.ToTensor()"
      ],
      "execution_count": 2,
      "outputs": []
    },
    {
      "cell_type": "code",
      "metadata": {
        "id": "p3YrvQUtOALg",
        "colab_type": "code",
        "colab": {
          "base_uri": "https://localhost:8080/",
          "height": 701,
          "referenced_widgets": [
            "a1e44cb745ff4e79942619460fb43058",
            "b66c37276efe4e548cd04d2f7016d812",
            "882b0a851b7e4d6b956eb8247df85b87",
            "78e7af84ad384294a8566bcc12ba384c",
            "e4b3a4ab5c1f4861b6d324b7f95e1ffb",
            "990f55c7a84e4592bb4aa0f01085f597",
            "08fbd3a24aac46bfa22508a97222226e",
            "dcb1ea701d0a42449df4435538ca560d",
            "43d897b379264a1181dee90ccd92d165",
            "23f3731b11874372b84a350f83c90bd8",
            "a7a4e48842584bc9a8c6920c1e2875b1",
            "187240f2fc654edf91657f4c1692b51f",
            "6a0dda6871944fc8879c98bc314b89a1",
            "7448c8d3bebf4532b726f04f2d86d2e4",
            "4b1bd37157b041cf9650d781acef9d5e",
            "a282f5ca9757452d9ce1ee39d700fdd9",
            "91a227384fff48fa8388c6324ad25168",
            "7931a0fa5eb843a1997bd00a423997f3",
            "40bb54cfbd844595be52968c41a7bb50",
            "9d4a2a4ce49848db97ee13007a6c2975",
            "63e13fead4aa4ab3bec9273e88a67b83",
            "8cf65c7981ba44c499e1dc02b155aaf9",
            "b92d3c5459274045bf8e5d9e42ac5ee1",
            "40966db0f1d94cbba2ac8d70759762c1",
            "c319873dfdf644ac82d77220f8a0252d",
            "b484d6fc89d84fd092dd762d2227180e",
            "1cd13018f39a4b6fb7e7b3c0fb060ca9",
            "917e19ad15244d23b7dbe8ea07f61c1d",
            "4d2e5337a54c4295a9a26f7f3415a225",
            "b3c9a43477074dcf8768e5b6452306f2",
            "c67b254f503b40159a98a378585e2e09",
            "f145ceea50fb4bf5bb1b7a379beae5de",
            "ba76456726dd4b61a5a38e4d22393598",
            "818dd1bd5a4d4a5d938be16f7e348a69",
            "7c99e60a7fcf4b6ca17fd6c7ab45f959",
            "b78dad895679481eaab54b897762cf42",
            "fc2fe2631da240b59c39c84698e91ff7",
            "7ef0ce92d21a48f29e2d87d44ea6be9e",
            "ae43931c48234313a35a89c3f5365bc9",
            "55d669c4eb904fcfba1d644dadfa5de8",
            "2ae95cd859b4479ea7e7617b324e1a95",
            "d130f40157d941af9b9ee840c543e769",
            "e0dab3336ff34848875261b44e16f6fb",
            "241fefefcbbc47ceb360ee3342b6ca36",
            "6961a76a0435408b99843dfe60fd7bc7",
            "478eff150c004921970e34c51854e0bf",
            "a9f321f8cf6e4f1cab61e61adccd88ad",
            "6b105173950a4ca194eec34f546d2ac6",
            "ed8e32cf203b422ca063f585aa2b48a6",
            "c5adf4b507d447cfabf59066b81a70c5",
            "8251b9de54f046948812a89687d50f1a",
            "60598010f1e443edb93f7d3c17d8c11e",
            "ed27ff7090084ed4a096e534cd4bcece",
            "8da07ffa54de46c0ad7952a72a728250",
            "94108f34efc04350a1ecf7ea54abed46",
            "f5ea059e53704716ac4d41d986f1e8a4",
            "92d9d248d5f9428cbc28e41c38926ab4",
            "8440b0d4e1dc4eababf0895f80b87434",
            "0100896ec84945d5a989fc7296ded676",
            "0b463a5de11442ff8e662d6dcc0ffee3",
            "f3a24af18ddf489aace71107a9994320",
            "c70d8fe8d2d941feabfa1c8b39e4af86",
            "21dd7200f74245589f6e60dcaa7a29e4",
            "83be4ba0636146f9bdfd7b94116c5f30"
          ]
        },
        "outputId": "0b6641df-6bb2-49bc-f4d4-7e823197e5c7"
      },
      "source": [
        "train = torchvision.datasets.MNIST('./data/train', train=True, transform=tfms_train, download=True)\n",
        "valid = torchvision.datasets.MNIST('./data/valid', train=False,transform=tfms_valid, download=True)"
      ],
      "execution_count": 3,
      "outputs": [
        {
          "output_type": "stream",
          "text": [
            "Downloading http://yann.lecun.com/exdb/mnist/train-images-idx3-ubyte.gz to ./data/train/MNIST/raw/train-images-idx3-ubyte.gz\n"
          ],
          "name": "stdout"
        },
        {
          "output_type": "display_data",
          "data": {
            "application/vnd.jupyter.widget-view+json": {
              "model_id": "a1e44cb745ff4e79942619460fb43058",
              "version_minor": 0,
              "version_major": 2
            },
            "text/plain": [
              "HBox(children=(FloatProgress(value=1.0, bar_style='info', max=1.0), HTML(value='')))"
            ]
          },
          "metadata": {
            "tags": []
          }
        },
        {
          "output_type": "stream",
          "text": [
            "Extracting ./data/train/MNIST/raw/train-images-idx3-ubyte.gz to ./data/train/MNIST/raw\n",
            "Downloading http://yann.lecun.com/exdb/mnist/train-labels-idx1-ubyte.gz to ./data/train/MNIST/raw/train-labels-idx1-ubyte.gz\n"
          ],
          "name": "stdout"
        },
        {
          "output_type": "display_data",
          "data": {
            "application/vnd.jupyter.widget-view+json": {
              "model_id": "43d897b379264a1181dee90ccd92d165",
              "version_minor": 0,
              "version_major": 2
            },
            "text/plain": [
              "HBox(children=(FloatProgress(value=1.0, bar_style='info', max=1.0), HTML(value='')))"
            ]
          },
          "metadata": {
            "tags": []
          }
        },
        {
          "output_type": "stream",
          "text": [
            "Extracting ./data/train/MNIST/raw/train-labels-idx1-ubyte.gz to ./data/train/MNIST/raw\n",
            "Downloading http://yann.lecun.com/exdb/mnist/t10k-images-idx3-ubyte.gz to ./data/train/MNIST/raw/t10k-images-idx3-ubyte.gz\n"
          ],
          "name": "stdout"
        },
        {
          "output_type": "display_data",
          "data": {
            "application/vnd.jupyter.widget-view+json": {
              "model_id": "91a227384fff48fa8388c6324ad25168",
              "version_minor": 0,
              "version_major": 2
            },
            "text/plain": [
              "HBox(children=(FloatProgress(value=1.0, bar_style='info', max=1.0), HTML(value='')))"
            ]
          },
          "metadata": {
            "tags": []
          }
        },
        {
          "output_type": "stream",
          "text": [
            "Extracting ./data/train/MNIST/raw/t10k-images-idx3-ubyte.gz to ./data/train/MNIST/raw\n",
            "Downloading http://yann.lecun.com/exdb/mnist/t10k-labels-idx1-ubyte.gz to ./data/train/MNIST/raw/t10k-labels-idx1-ubyte.gz\n"
          ],
          "name": "stdout"
        },
        {
          "output_type": "display_data",
          "data": {
            "application/vnd.jupyter.widget-view+json": {
              "model_id": "c319873dfdf644ac82d77220f8a0252d",
              "version_minor": 0,
              "version_major": 2
            },
            "text/plain": [
              "HBox(children=(FloatProgress(value=1.0, bar_style='info', max=1.0), HTML(value='')))"
            ]
          },
          "metadata": {
            "tags": []
          }
        },
        {
          "output_type": "stream",
          "text": [
            "Extracting ./data/train/MNIST/raw/t10k-labels-idx1-ubyte.gz to ./data/train/MNIST/raw\n",
            "Processing...\n",
            "Done!\n",
            "Downloading http://yann.lecun.com/exdb/mnist/train-images-idx3-ubyte.gz to ./data/valid/MNIST/raw/train-images-idx3-ubyte.gz\n",
            "\n",
            "\n"
          ],
          "name": "stdout"
        },
        {
          "output_type": "stream",
          "text": [
            "/pytorch/torch/csrc/utils/tensor_numpy.cpp:141: UserWarning: The given NumPy array is not writeable, and PyTorch does not support non-writeable tensors. This means you can write to the underlying (supposedly non-writeable) NumPy array using the tensor. You may want to copy the array to protect its data or make it writeable before converting it to a tensor. This type of warning will be suppressed for the rest of this program.\n"
          ],
          "name": "stderr"
        },
        {
          "output_type": "display_data",
          "data": {
            "application/vnd.jupyter.widget-view+json": {
              "model_id": "ba76456726dd4b61a5a38e4d22393598",
              "version_minor": 0,
              "version_major": 2
            },
            "text/plain": [
              "HBox(children=(FloatProgress(value=1.0, bar_style='info', max=1.0), HTML(value='')))"
            ]
          },
          "metadata": {
            "tags": []
          }
        },
        {
          "output_type": "stream",
          "text": [
            "Extracting ./data/valid/MNIST/raw/train-images-idx3-ubyte.gz to ./data/valid/MNIST/raw\n",
            "Downloading http://yann.lecun.com/exdb/mnist/train-labels-idx1-ubyte.gz to ./data/valid/MNIST/raw/train-labels-idx1-ubyte.gz\n"
          ],
          "name": "stdout"
        },
        {
          "output_type": "display_data",
          "data": {
            "application/vnd.jupyter.widget-view+json": {
              "model_id": "2ae95cd859b4479ea7e7617b324e1a95",
              "version_minor": 0,
              "version_major": 2
            },
            "text/plain": [
              "HBox(children=(FloatProgress(value=1.0, bar_style='info', max=1.0), HTML(value='')))"
            ]
          },
          "metadata": {
            "tags": []
          }
        },
        {
          "output_type": "stream",
          "text": [
            "Extracting ./data/valid/MNIST/raw/train-labels-idx1-ubyte.gz to ./data/valid/MNIST/raw\n",
            "Downloading http://yann.lecun.com/exdb/mnist/t10k-images-idx3-ubyte.gz to ./data/valid/MNIST/raw/t10k-images-idx3-ubyte.gz\n"
          ],
          "name": "stdout"
        },
        {
          "output_type": "display_data",
          "data": {
            "application/vnd.jupyter.widget-view+json": {
              "model_id": "ed8e32cf203b422ca063f585aa2b48a6",
              "version_minor": 0,
              "version_major": 2
            },
            "text/plain": [
              "HBox(children=(FloatProgress(value=1.0, bar_style='info', max=1.0), HTML(value='')))"
            ]
          },
          "metadata": {
            "tags": []
          }
        },
        {
          "output_type": "stream",
          "text": [
            "Extracting ./data/valid/MNIST/raw/t10k-images-idx3-ubyte.gz to ./data/valid/MNIST/raw\n",
            "Downloading http://yann.lecun.com/exdb/mnist/t10k-labels-idx1-ubyte.gz to ./data/valid/MNIST/raw/t10k-labels-idx1-ubyte.gz\n"
          ],
          "name": "stdout"
        },
        {
          "output_type": "display_data",
          "data": {
            "application/vnd.jupyter.widget-view+json": {
              "model_id": "92d9d248d5f9428cbc28e41c38926ab4",
              "version_minor": 0,
              "version_major": 2
            },
            "text/plain": [
              "HBox(children=(FloatProgress(value=1.0, bar_style='info', max=1.0), HTML(value='')))"
            ]
          },
          "metadata": {
            "tags": []
          }
        },
        {
          "output_type": "stream",
          "text": [
            "Extracting ./data/valid/MNIST/raw/t10k-labels-idx1-ubyte.gz to ./data/valid/MNIST/raw\n",
            "Processing...\n",
            "Done!\n"
          ],
          "name": "stdout"
        }
      ]
    },
    {
      "cell_type": "markdown",
      "metadata": {
        "id": "tNIaTIB6OALm",
        "colab_type": "text"
      },
      "source": [
        "2. Check the data has right number of examples"
      ]
    },
    {
      "cell_type": "code",
      "metadata": {
        "id": "CUPm8km0OALp",
        "colab_type": "code",
        "colab": {
          "base_uri": "https://localhost:8080/",
          "height": 284
        },
        "outputId": "49ed243f-2266-443b-f32b-208629a04b5f"
      },
      "source": [
        "print(train)\n",
        "print(valid)"
      ],
      "execution_count": 4,
      "outputs": [
        {
          "output_type": "stream",
          "text": [
            "Dataset MNIST\n",
            "    Number of datapoints: 60000\n",
            "    Root location: ./data/train\n",
            "    Split: Train\n",
            "    StandardTransform\n",
            "Transform: Compose(\n",
            "               Resize(size=28, interpolation=PIL.Image.BILINEAR)\n",
            "               ToTensor()\n",
            "           )\n",
            "Dataset MNIST\n",
            "    Number of datapoints: 10000\n",
            "    Root location: ./data/valid\n",
            "    Split: Test\n",
            "    StandardTransform\n",
            "Transform: ToTensor()\n"
          ],
          "name": "stdout"
        }
      ]
    },
    {
      "cell_type": "markdown",
      "metadata": {
        "id": "f4ifZsXuOALw",
        "colab_type": "text"
      },
      "source": [
        "3. Show the first training example and corresponding label (target)"
      ]
    },
    {
      "cell_type": "code",
      "metadata": {
        "id": "8078wGRvOALw",
        "colab_type": "code",
        "colab": {
          "base_uri": "https://localhost:8080/",
          "height": 407
        },
        "outputId": "84d09af1-a23a-47b1-da8f-7ed927335353"
      },
      "source": [
        "example = 0\n",
        "\n",
        "img, label = train.data[example], train.targets[example]\n",
        "print(\"Shape:\", img.shape)\n",
        "print(\"Label:\", label.item())\n",
        "plt.imshow(img)"
      ],
      "execution_count": 5,
      "outputs": [
        {
          "output_type": "stream",
          "text": [
            "Shape: torch.Size([28, 28])\n",
            "Label: 5\n",
            "\n",
            "\n",
            "\n"
          ],
          "name": "stdout"
        },
        {
          "output_type": "execute_result",
          "data": {
            "text/plain": [
              "<matplotlib.image.AxesImage at 0x7f7831061ba8>"
            ]
          },
          "metadata": {
            "tags": []
          },
          "execution_count": 5
        },
        {
          "output_type": "display_data",
          "data": {
            "image/png": "[encoded data removed]",
            "text/plain": [
              "<Figure size 432x288 with 1 Axes>"
            ]
          },
          "metadata": {
            "tags": [],
            "needs_background": "light"
          }
        },
        {
          "output_type": "stream",
          "text": [
            "\n",
            "\n"
          ],
          "name": "stdout"
        }
      ]
    },
    {
      "cell_type": "markdown",
      "metadata": {
        "id": "7R7wnhFk0LDg",
        "colab_type": "text"
      },
      "source": [
        "# Data Augmentation\n",
        "The data we have can be altered in various ways to provide more data (based on what we already have).\n",
        "This can include:\n",
        "\n",
        "\n",
        "*   Flipping (can't be used in this context - except for maybe 8 and 0)\n",
        "*   Rotating (slightly, so the number is still upright)\n",
        "*   Scaling\n",
        "*   Cropping\n",
        "*   Translating\n",
        "*   Adding **Gaussian noise** - helps prevent overfitting by distorting high frequency features. **Salt and pepper noise** can be used as well (b&w static-like noise)\n",
        "\n",
        "An example is shown below. This will be applied to each batch of images in the training loop after the originals have been used to train the network.\n"
      ]
    },
    {
      "cell_type": "code",
      "metadata": {
        "id": "0OKJuX-BKS3k",
        "colab_type": "code",
        "colab": {}
      },
      "source": [
        "  # Randomly tilts the image by -15 to 15 deg\n",
        "  # Randomly translates image by -26*0.2 to -26*0.2 horizontally or vertically\n",
        "  # Randomly scales image by 0.5x to 1x\n",
        "  # Adds gaussian noise\n",
        "augmentations = transforms.Compose([transforms.ToPILImage(),\n",
        "                                    transforms.RandomAffine(degrees=15, translate=(0.2,0.2), scale=(0.5,1)),\n",
        "                                    transforms.ToTensor(),\n",
        "                                    transforms.Lambda(lambda x: torch.from_numpy(random_noise(x, mode='gaussian', mean=0, var=0.05, clip=True, seed = 63)))])"
      ],
      "execution_count": 6,
      "outputs": []
    },
    {
      "cell_type": "code",
      "metadata": {
        "id": "4JDzPoHfMHTK",
        "colab_type": "code",
        "colab": {
          "base_uri": "https://localhost:8080/",
          "height": 283
        },
        "outputId": "55571b8e-be19-479d-dad8-89d79587b6c4"
      },
      "source": [
        "aug_img = augmentations(img)\n",
        "plt.imshow(aug_img.squeeze())"
      ],
      "execution_count": 7,
      "outputs": [
        {
          "output_type": "execute_result",
          "data": {
            "text/plain": [
              "<matplotlib.image.AxesImage at 0x7f7830bc3358>"
            ]
          },
          "metadata": {
            "tags": []
          },
          "execution_count": 7
        },
        {
          "output_type": "display_data",
          "data": {
            "image/png": "[encoded data removed]",
            "text/plain": [
              "<Figure size 432x288 with 1 Axes>"
            ]
          },
          "metadata": {
            "tags": [],
            "needs_background": "light"
          }
        }
      ]
    },
    {
      "cell_type": "markdown",
      "metadata": {
        "id": "9S7pHfKJOAL9",
        "colab_type": "text"
      },
      "source": [
        "## Create Model\n",
        "Two ways to do this.  Either by inheriting from the Module class or by using nn.Sequential"
      ]
    },
    {
      "cell_type": "code",
      "metadata": {
        "id": "69ArUqFQqc2F",
        "colab_type": "code",
        "colab": {}
      },
      "source": [
        "class CNN(nn.Module):\n",
        "\n",
        "  def __init__(self):\n",
        "    super(CNN, self).__init__()\n",
        "  \n",
        "    self.conv1 = nn.Conv2d(in_channels=1, out_channels=16, kernel_size=3, stride=1)\n",
        "    self.pool = nn.MaxPool2d(kernel_size=2)\n",
        "    self.conv2 = nn.Conv2d(in_channels=16, out_channels=32, kernel_size=3, stride=1)\n",
        "    self.conv3 = nn.Conv2d(in_channels=32, out_channels=32, kernel_size=3, stride=1)\n",
        "    self.adapt = nn.AdaptiveMaxPool2d(5)\n",
        "    self.linear1 = nn.Linear(800, 120)\n",
        "    self.linear2 = nn.Linear(120, 84)\n",
        "    self.linear3 = nn.Linear(84, 10) \n",
        "  \n",
        "  def forward(self, input):\n",
        "    result = self.conv1(input)\n",
        "    result = F.relu(result)\n",
        "    result = self.pool(result)\n",
        "\n",
        "    result = self.conv2(result)\n",
        "    result = F.relu(result)\n",
        "    result = self.pool(result)\n",
        "\n",
        "    result = self.conv3(result)\n",
        "    result = F.relu(result)\n",
        "    result = self.adapt(result)\n",
        "\n",
        "    result = result.view(result.size(0), -1) \n",
        "    result = self.linear1(result)\n",
        "    result = self.linear2(result)\n",
        "    result = self.linear3(result)\n",
        "    return result"
      ],
      "execution_count": 8,
      "outputs": []
    },
    {
      "cell_type": "markdown",
      "metadata": {
        "id": "zRrG17fuOAME",
        "colab_type": "text"
      },
      "source": [
        "### Define training loop\n",
        "\n",
        "Grab batch from data loader; make model predictions; calculate loss; compute gradients; update weights;\n",
        "\n",
        "**Data augmentation takes place here**"
      ]
    },
    {
      "cell_type": "code",
      "metadata": {
        "id": "nrz4KsXWeZxJ",
        "colab_type": "code",
        "colab": {}
      },
      "source": [
        "class Learner():\n",
        "  \n",
        "  def __init__(self, model, lr, train, valid):\n",
        "    self.model = model\n",
        "    self.optimizer = torch.optim.SGD(self.model.parameters(), lr=lr)\n",
        "    self.criterion = torch.nn.CrossEntropyLoss()\n",
        "    self.train_loader = train\n",
        "    self.valid_loader = valid\n",
        "    self.transform = augmentations\n",
        "  \n",
        "  def fit(self, epochs, augment=True, evaluate=True):\n",
        "    self.model.train()\n",
        "\n",
        "    for e in range(epochs):\n",
        "      start = perf_counter()\n",
        "      self.train(augment)\n",
        "      end = perf_counter()\n",
        "      if evaluate:\n",
        "        print(\"epoch\", (e + 1), \" | accuracy\", round(self.eval(),3), \n",
        "              \"% | time: \", round((end-start),3), \" seconds\")\n",
        "\n",
        "  def train(self, augment):\n",
        "    for imgs, labels in self.train_loader:\n",
        "      if augment:\n",
        "        self.augment_images(imgs)\n",
        "\n",
        "      pred = self.model(imgs)\n",
        "      loss = self.criterion(pred, labels)\n",
        "\n",
        "      loss.backward()\n",
        "      self.optimizer.step()\n",
        "      self.optimizer.zero_grad()\n",
        "    \n",
        "    if augment:\n",
        "      self.train(False)\n",
        "\n",
        "  def eval(self):\n",
        "    self.model.eval()\n",
        "\n",
        "    with torch.no_grad():\n",
        "      correct = 0\n",
        "      for images, labels in self.valid_loader:\n",
        "        predicted = torch.argmax(self.model(images),dim=1)\n",
        "        correct += (predicted == labels).sum().item()\n",
        "\n",
        "    return correct / len(self.valid_loader.dataset) * 100\n",
        "\n",
        "  def augment_images(self,images):\n",
        "    \"\"\"  Applys a given series of transformations to a batch of images  \"\"\"\n",
        "    for i in range(len(images)):\n",
        "        images[i] = self.transform(images[i])\n",
        "\n",
        "  def confusion_matrix(self):\n",
        "    \"\"\" Returns the matrix of preditions against ground truths of validation \"\"\"\n",
        "    self.model.eval()\n",
        "    confusion_matrix = np.array([[0]*10]*10)\n",
        "\n",
        "    with torch.no_grad():\n",
        "      for image, label in self.valid_loader:\n",
        "        pred = torch.argmax(self.model(image), dim=1)\n",
        "        confusion_matrix[label][pred] += 1\n",
        "    \n",
        "    return confusion_matrix"
      ],
      "execution_count": 9,
      "outputs": []
    },
    {
      "cell_type": "code",
      "metadata": {
        "colab_type": "code",
        "id": "1pHlDMsGDI6K",
        "colab": {}
      },
      "source": [
        "# When performing evaluation it's good to work in the torch.no_grad context,\n",
        "# this will save memory and won't compute any gradients\n",
        "\n",
        "def plot_accuracy(matrix):\n",
        "  fig, ax = plt.subplots()\n",
        "  im = ax.imshow(matrix)\n",
        "  axis = [0, 1, 2, 3, 4, 5, 6, 7, 8, 9]\n",
        "  # Showing all ticks\n",
        "  ax.set_xticks(np.arange(10))\n",
        "  ax.set_yticks(np.arange(10))\n",
        "  # Giving labels to ticks and axes\n",
        "  ax.set_xticklabels(axis)\n",
        "  ax.set_yticklabels(axis)\n",
        "  ax.set_ylabel('Actual')\n",
        "  ax.set_xlabel('Prediction')\n",
        "  # Creating text annotations for each cell\n",
        "  for i in range(10):\n",
        "      for j in range(10):\n",
        "          text = ax.text(j, i, matrix[i, j],\n",
        "                        ha=\"center\", va=\"center\", color=\"w\")\n",
        "  ax.set_title(\"Model Predictions vs Actual\")\n",
        "  fig.tight_layout()\n",
        "  return plt.show()\n"
      ],
      "execution_count": 10,
      "outputs": []
    },
    {
      "cell_type": "markdown",
      "metadata": {
        "id": "z_qkBLQkOAMD",
        "colab_type": "text"
      },
      "source": [
        "### Choose loss function and optimiser\n",
        "e.g. Mean Squared Error (MSE) with Stochastic Gradient Decent (SGD)"
      ]
    },
    {
      "cell_type": "code",
      "metadata": {
        "id": "nMQtePtIdBw-",
        "colab_type": "code",
        "colab": {
          "base_uri": "https://localhost:8080/",
          "height": 55
        },
        "outputId": "a0a5c1e9-24dd-4124-c31d-c39a8d40ca21"
      },
      "source": [
        "valid_loader = torch.utils.data.DataLoader(valid)\n",
        "\n",
        "criterion = torch.nn.CrossEntropyLoss()\n",
        "#learning_rates = [0.1, 0.01, 0.001]\n",
        "lrs = np.arange(0.1, 0, -0.01)\n",
        "\n",
        "learning_rates = list(lrs)\n",
        "print(learning_rates)\n",
        "batch_sizes = [5, 10, 20, 40, 64]\n",
        "BATCH_SIZE = 5\n"
      ],
      "execution_count": 11,
      "outputs": [
        {
          "output_type": "stream",
          "text": [
            "[0.1, 0.09000000000000001, 0.08000000000000002, 0.07000000000000002, 0.060000000000000026, 0.05000000000000003, 0.040000000000000036, 0.03000000000000004, 0.020000000000000046, 0.01000000000000005]\n"
          ],
          "name": "stdout"
        }
      ]
    },
    {
      "cell_type": "markdown",
      "metadata": {
        "id": "l1OG_xsYOAMP",
        "colab_type": "text"
      },
      "source": [
        "### Evaluate Model\n",
        "Uses the validation set to test the model"
      ]
    },
    {
      "cell_type": "code",
      "metadata": {
        "colab_type": "code",
        "id": "2S1zX_xUO29C",
        "colab": {
          "base_uri": "https://localhost:8080/",
          "height": 1000
        },
        "outputId": "0cef1ebe-9bfd-4f2b-e154-6c938f8b9ba2"
      },
      "source": [
        "accuracies = []\n",
        "#cumulative_time = 0\n",
        "for lr in learning_rates:\n",
        "  model = CNN()\n",
        "  learner = Learner(model, lr, torch.utils.data.DataLoader(train, batch_size = BATCH_SIZE, shuffle=False), valid_loader)\n",
        "  learner.fit(3, augment=False, evaluate=True) # augment and evalute off for speed\n",
        "  accuracies.append(learner.eval())#####\n",
        "  plot_accuracy(learner.confusion_matrix())\n",
        "\n",
        "plt.plot(learning_rates, accuracies, 'r-') #####\n",
        "plt.axis([0, max(learning_rates), min(accuracies)-1, max(accuracies)+1]) #####\n",
        "plt.title('Accuracy vs Learning Rate') #####\n",
        "plt.xlabel('Learning Rate') #####\n",
        "plt.ylabel('Accuracy (%)') #####\n",
        "plt.show() #####\n"
      ],
      "execution_count": 13,
      "outputs": [
        {
          "output_type": "stream",
          "text": [
            "epoch 1  | accuracy 9.58 % | time:  67.643  seconds\n",
            "epoch 2  | accuracy 9.58 % | time:  67.362  seconds\n",
            "epoch 3  | accuracy 9.58 % | time:  67.154  seconds\n"
          ],
          "name": "stdout"
        },
        {
          "output_type": "display_data",
          "data": {
            "image/png": "[encoded data removed]",
            "text/plain": [
              "<Figure size 432x288 with 1 Axes>"
            ]
          },
          "metadata": {
            "tags": [],
            "needs_background": "light"
          }
        },
        {
          "output_type": "stream",
          "text": [
            "epoch 1  | accuracy 93.03 % | time:  68.21  seconds\n",
            "epoch 2  | accuracy 80.27 % | time:  68.324  seconds\n",
            "epoch 3  | accuracy 9.58 % | time:  67.306  seconds\n"
          ],
          "name": "stdout"
        },
        {
          "output_type": "display_data",
          "data": {
            "image/png": "[encoded data removed]",
            "text/plain": [
              "<Figure size 432x288 with 1 Axes>"
            ]
          },
          "metadata": {
            "tags": [],
            "needs_background": "light"
          }
        },
        {
          "output_type": "stream",
          "text": [
            "epoch 1  | accuracy 94.26 % | time:  68.172  seconds\n",
            "epoch 2  | accuracy 92.46 % | time:  68.243  seconds\n",
            "epoch 3  | accuracy 93.16 % | time:  68.049  seconds\n"
          ],
          "name": "stdout"
        },
        {
          "output_type": "display_data",
          "data": {
            "image/png": "[encoded data removed]",
            "text/plain": [
              "<Figure size 432x288 with 1 Axes>"
            ]
          },
          "metadata": {
            "tags": [],
            "needs_background": "light"
          }
        },
        {
          "output_type": "stream",
          "text": [
            "epoch 1  | accuracy 95.19 % | time:  68.14  seconds\n",
            "epoch 2  | accuracy 84.43 % | time:  68.348  seconds\n",
            "epoch 3  | accuracy 95.85 % | time:  68.134  seconds\n"
          ],
          "name": "stdout"
        },
        {
          "output_type": "display_data",
          "data": {
            "image/png": "[encoded data removed]",
            "text/plain": [
              "<Figure size 432x288 with 1 Axes>"
            ]
          },
          "metadata": {
            "tags": [],
            "needs_background": "light"
          }
        },
        {
          "output_type": "stream",
          "text": [
            "epoch 1  | accuracy 96.69 % | time:  68.128  seconds\n",
            "epoch 2  | accuracy 96.69 % | time:  68.335  seconds\n",
            "epoch 3  | accuracy 97.49 % | time:  68.099  seconds\n"
          ],
          "name": "stdout"
        },
        {
          "output_type": "display_data",
          "data": {
            "image/png": "[encoded data removed]",
            "text/plain": [
              "<Figure size 432x288 with 1 Axes>"
            ]
          },
          "metadata": {
            "tags": [],
            "needs_background": "light"
          }
        },
        {
          "output_type": "stream",
          "text": [
            "epoch 1  | accuracy 97.59 % | time:  68.531  seconds\n",
            "epoch 2  | accuracy 97.51 % | time:  68.011  seconds\n",
            "epoch 3  | accuracy 97.19 % | time:  67.822  seconds\n"
          ],
          "name": "stdout"
        },
        {
          "output_type": "display_data",
          "data": {
            "image/png": "[encoded data removed]",
            "text/plain": [
              "<Figure size 432x288 with 1 Axes>"
            ]
          },
          "metadata": {
            "tags": [],
            "needs_background": "light"
          }
        },
        {
          "output_type": "stream",
          "text": [
            "epoch 1  | accuracy 97.77 % | time:  68.242  seconds\n",
            "epoch 2  | accuracy 98.0 % | time:  67.822  seconds\n",
            "epoch 3  | accuracy 98.37 % | time:  67.504  seconds\n"
          ],
          "name": "stdout"
        },
        {
          "output_type": "display_data",
          "data": {
            "image/png": "[encoded data removed]",
            "text/plain": [
              "<Figure size 432x288 with 1 Axes>"
            ]
          },
          "metadata": {
            "tags": [],
            "needs_background": "light"
          }
        },
        {
          "output_type": "stream",
          "text": [
            "epoch 1  | accuracy 98.02 % | time:  68.211  seconds\n",
            "epoch 2  | accuracy 98.46 % | time:  68.254  seconds\n",
            "epoch 3  | accuracy 98.51 % | time:  68.058  seconds\n"
          ],
          "name": "stdout"
        },
        {
          "output_type": "display_data",
          "data": {
            "image/png": "[encoded data removed]",
            "text/plain": [
              "<Figure size 432x288 with 1 Axes>"
            ]
          },
          "metadata": {
            "tags": [],
            "needs_background": "light"
          }
        },
        {
          "output_type": "stream",
          "text": [
            "epoch 1  | accuracy 97.73 % | time:  68.14  seconds\n",
            "epoch 2  | accuracy 98.44 % | time:  68.623  seconds\n",
            "epoch 3  | accuracy 97.86 % | time:  68.818  seconds\n"
          ],
          "name": "stdout"
        },
        {
          "output_type": "display_data",
          "data": {
            "image/png": "[encoded data removed]",
            "text/plain": [
              "<Figure size 432x288 with 1 Axes>"
            ]
          },
          "metadata": {
            "tags": [],
            "needs_background": "light"
          }
        },
        {
          "output_type": "stream",
          "text": [
            "epoch 1  | accuracy 97.3 % | time:  69.178  seconds\n",
            "epoch 2  | accuracy 98.19 % | time:  69.477  seconds\n",
            "epoch 3  | accuracy 98.48 % | time:  69.502  seconds\n"
          ],
          "name": "stdout"
        },
        {
          "output_type": "display_data",
          "data": {
            "image/png": "[encoded data removed]",
            "text/plain": [
              "<Figure size 432x288 with 1 Axes>"
            ]
          },
          "metadata": {
            "tags": [],
            "needs_background": "light"
          }
        },
        {
          "output_type": "display_data",
          "data": {
            "image/png": "[encoded data removed]",
            "text/plain": [
              "<Figure size 432x288 with 1 Axes>"
            ]
          },
          "metadata": {
            "tags": [],
            "needs_background": "light"
          }
        }
      ]
    },
    {
      "cell_type": "code",
      "metadata": {
        "colab_type": "code",
        "id": "b9rglsd8PD11",
        "colab": {}
      },
      "source": [
        "accuracies = []\n",
        "for size in batch_sizes:\n",
        "  model = CNN()\n",
        "  lr = 0.01\n",
        "  learner = Learner(model, lr, torch.utils.data.DataLoader(train, batch_size = size, shuffle=False), valid_loader)\n",
        "  accuracies.append(learner.fit(3))#####\n",
        "  plot_accuracy(learner.confusion_matrix())\n",
        "\n",
        "plt.plot(batch_sizes, accuracies, 'b-') #####\n",
        "plt.axis([0, max(batch_sizes), min(accuracies)-1, max(accuracies)+1]) #####\n",
        "plt.title('Accuracy vs Batch Size') #####\n",
        "plt.xlabel('Batch Size') #####\n",
        "plt.ylabel('Accuracy (%)') #####\n",
        "plt.show() #####"
      ],
      "execution_count": null,
      "outputs": []
    },
    {
      "cell_type": "code",
      "metadata": {
        "id": "-jQmdNYSAEyQ",
        "colab_type": "code",
        "colab": {}
      },
      "source": [
        "print(accuracy)\n",
        "x = np.arange(1, epochs+1)\n",
        "print(x)\n",
        "plt.xticks(x, x)\n",
        "plt.plot(x, accuracy, 'r-') \n",
        "plt.axis([1, epochs, min(accuracy)-1, max(accuracy)+1])\n",
        "plt.title('Accuracy per Epoch')\n",
        "plt.xlabel('Epoch')\n",
        "plt.ylabel('Accuracy (%)')\n",
        "plt.show()"
      ],
      "execution_count": null,
      "outputs": []
    },
    {
      "cell_type": "markdown",
      "metadata": {
        "id": "cBSetRJjxRsJ",
        "colab_type": "text"
      },
      "source": [
        "## Visualisation\n",
        "\n",
        "We create a class that allows us to inspect individual layers in our neural network using hooks."
      ]
    },
    {
      "cell_type": "code",
      "metadata": {
        "id": "OCoUJ_VYr11v",
        "colab_type": "code",
        "colab": {}
      },
      "source": [
        "cnn = CNN()\n",
        "learner = Learner(cnn, 0.01, torch.utils.data.DataLoader(train, batch_size=5), valid_loader)\n",
        "learner.fit(1, augment=False)\n",
        "plot_accuracy(learner.confusion_matrix())"
      ],
      "execution_count": null,
      "outputs": []
    },
    {
      "cell_type": "code",
      "metadata": {
        "id": "GQF7LhqznluW",
        "colab_type": "code",
        "colab": {}
      },
      "source": [
        "## visualises each kernel \n",
        "plots = []\n",
        "convlayer = 0\n",
        "children = list(learner.model.children())\n",
        "for i in range(1):\n",
        "  if type(children[i]) == nn.Conv2d:\n",
        "    plots.append(plt.figure(figsize=(10, 20)))\n",
        "    cw = children[i].weight\n",
        "    for j in range(16):\n",
        "      plots[convlayer].add_subplot(10, 10, j+1)\n",
        "      plt.axis('off')\n",
        "      plt.imshow(cw[j][0,:,:].detach())\n",
        "    convlayer += 1"
      ],
      "execution_count": null,
      "outputs": []
    },
    {
      "cell_type": "code",
      "metadata": {
        "id": "YQa95gJ0bpx2",
        "colab_type": "code",
        "colab": {}
      },
      "source": [
        "class LayerVisualisation():\n",
        "  \"\"\" \n",
        "    Allows us to inspect an indivdual convolutional layer in a neural network.\n",
        "  \"\"\"\n",
        "\n",
        "  def __init__(self, model, layer):\n",
        "    self.model = model\n",
        "    self.model.eval()\n",
        "    self.sel_layer = list(self.model.children())[layer]\n",
        "    print(self.sel_layer)\n",
        "    self.hook = self.sel_layer.register_forward_hook(self.hook_fn)\n",
        "\n",
        "  def hook_fn(self, module, input, output):\n",
        "    self.activations = output[0]\n",
        "\n",
        "  def show_kernels(self):\n",
        "    ...\n",
        "  \n",
        "  def show_activations(self):\n",
        "    ...\n",
        "\n",
        "  def visualise_filter(self, filter_id, lr=0.1, steps=30):\n",
        "    \"\"\" Returns an image that maximally excites the given filter \"\"\"\n",
        "    random_image = torch.rand((1, 1, 28, 28), requires_grad=True)\n",
        "    optimizer = torch.optim.Adam([random_image], lr=lr, weight_decay=1e-8)\n",
        "\n",
        "    for step in range(steps):\n",
        "      optimizer.zero_grad()\n",
        "      self.model(random_image)\n",
        "      loss = -self.activations[filter_id].mean()\n",
        "      loss.backward()\n",
        "      optimizer.step()\n",
        "\n",
        "    random_image.requires_grad = False\n",
        "    return random_image\n",
        "  \n",
        "  def close(self):\n",
        "    self.hook.remove()"
      ],
      "execution_count": null,
      "outputs": []
    },
    {
      "cell_type": "code",
      "metadata": {
        "id": "uiu1bck6cM_J",
        "colab_type": "code",
        "colab": {}
      },
      "source": [
        "def show_filters(layer, number):\n",
        "  plt.figure(figsize=(20, 20))\n",
        "  for i in range(number):\n",
        "    filter = layer.visualise_filter(i)\n",
        "    plt.subplot(8, 8, i+1)\n",
        "    plt.axis('off') \n",
        "    plt.imshow(filter.squeeze())"
      ],
      "execution_count": null,
      "outputs": []
    },
    {
      "cell_type": "code",
      "metadata": {
        "id": "fgdR90p6dU-r",
        "colab_type": "code",
        "colab": {}
      },
      "source": [
        "conv1 = LayerVisualisation(learner.model, 0)\n",
        "show_filters(conv1 ,16) ## first convolutional layer"
      ],
      "execution_count": null,
      "outputs": []
    },
    {
      "cell_type": "code",
      "metadata": {
        "id": "9j8tZw0T090Y",
        "colab_type": "code",
        "colab": {}
      },
      "source": [
        "conv2 = LayerVisualisation(learner.model, 2)\n",
        "show_filters(conv2 ,32) ## second convolutional layer"
      ],
      "execution_count": null,
      "outputs": []
    },
    {
      "cell_type": "code",
      "metadata": {
        "id": "N1lbi-xH1GQl",
        "colab_type": "code",
        "colab": {}
      },
      "source": [
        "conv3 = LayerVisualisation(learner.model, 3)\n",
        "show_filters(conv3, 20) ## third convolutional layer"
      ],
      "execution_count": null,
      "outputs": []
    },
    {
      "cell_type": "code",
      "metadata": {
        "id": "zKDtYU8ylljm",
        "colab_type": "code",
        "colab": {}
      },
      "source": [
        "outputs = LayerVisualisation(learner.model, 7)\n",
        "show_filters(outputs ,10) ## final linear layer"
      ],
      "execution_count": null,
      "outputs": []
    },
    {
      "cell_type": "markdown",
      "metadata": {
        "id": "IIotn9n-TwoV",
        "colab_type": "text"
      },
      "source": [
        "**Let's look at the result of sending these optimized images through the network**"
      ]
    },
    {
      "cell_type": "code",
      "metadata": {
        "id": "oJHDLKu0waeJ",
        "colab_type": "code",
        "colab": {}
      },
      "source": [
        "img, _ = next(iter(valid_loader))\n",
        "plt.imshow(img.squeeze())"
      ],
      "execution_count": null,
      "outputs": []
    },
    {
      "cell_type": "code",
      "metadata": {
        "id": "0rPTrrHvwhOg",
        "colab_type": "code",
        "colab": {}
      },
      "source": [
        "F.softmax(learner.model(img))"
      ],
      "execution_count": null,
      "outputs": []
    },
    {
      "cell_type": "code",
      "metadata": {
        "id": "1d5sID7nv-7i",
        "colab_type": "code",
        "colab": {}
      },
      "source": [
        "num = outputs.visualise_filter(7)\n",
        "F.softmax(learner.model(num))"
      ],
      "execution_count": null,
      "outputs": []
    },
    {
      "cell_type": "code",
      "metadata": {
        "id": "B6FBW7avOg_N",
        "colab_type": "code",
        "colab": {}
      },
      "source": [
        "with torch.no_grad():\n",
        "  image, label = next(iter(valid_loader))\n",
        "  print(image.shape)\n",
        "  learner.model(image)\n",
        "\n",
        "plt.imshow(image.squeeze())"
      ],
      "execution_count": null,
      "outputs": []
    },
    {
      "cell_type": "code",
      "metadata": {
        "id": "fJ6d2uMkjBZ0",
        "colab_type": "code",
        "colab": {}
      },
      "source": [
        "fig = plt.figure(figsize=(10, 10)) \n",
        "\n",
        "for filter, map in enumerate(conv2.activations):\n",
        "  ax = fig.add_subplot(6, 6, filter+1, xticks=[], yticks=[])\n",
        "  ax.imshow(map)"
      ],
      "execution_count": null,
      "outputs": []
    },
    {
      "cell_type": "markdown",
      "metadata": {
        "id": "OPeF4936uEoe",
        "colab_type": "text"
      },
      "source": [
        "** The following model gives an accuracy of around 99.07%**\n",
        "\n"
      ]
    },
    {
      "cell_type": "code",
      "metadata": {
        "id": "g45kCKnTuC27",
        "colab_type": "code",
        "colab": {}
      },
      "source": [
        "class CNN_2(nn.Module):\n",
        "\n",
        "  def __init__(self):\n",
        "    super(CNN_2, self).__init__()\n",
        "  \n",
        "    self.conv1 = nn.Conv2d(in_channels=1, out_channels=16, kernel_size=3, stride=1)\n",
        "    self.pool = nn.MaxPool2d(kernel_size=2)\n",
        "    self.conv2 = nn.Conv2d(in_channels=16, out_channels=32, kernel_size=3, stride=1)\n",
        "    self.adapt = nn.AdaptiveMaxPool2d(5)\n",
        "    self.linear2 = nn.Linear(800, 128)\n",
        "    self.linear3 = nn.Linear(128, 10) \n",
        "  \n",
        "  def forward(self, input):\n",
        "    result = self.conv1(input)\n",
        "    result = F.relu(result)\n",
        "    result = self.pool(result)\n",
        "\n",
        "    result = self.conv2(result)\n",
        "    result = F.relu(result)\n",
        "\n",
        "    result = self.adapt(result)\n",
        "\n",
        "    result = result.view(result.size(0), -1) \n",
        "    result = self.linear2(result)\n",
        "    result = self.linear3(result)\n",
        "    return result"
      ],
      "execution_count": null,
      "outputs": []
    },
    {
      "cell_type": "code",
      "metadata": {
        "id": "r0TApxg3uS2h",
        "colab_type": "code",
        "colab": {}
      },
      "source": [
        "cnn_2 = CNN_2()\n",
        "learner_2 = Learner(CNN_2, 0.01, torch.utils.data.DataLoader(train, batch_size=5), valid_loader)\n",
        "learner_2.fit(10, augment=True)\n",
        "plot_accuracy(learner_2.confusion_matrix())   "
      ],
      "execution_count": null,
      "outputs": []
    }
  ]
}