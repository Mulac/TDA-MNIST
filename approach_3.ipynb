{
  "nbformat": 4,
  "nbformat_minor": 0,
  "metadata": {
    "kernelspec": {
      "display_name": "Python 3",
      "language": "python",
      "name": "python3"
    },
    "language_info": {
      "codemirror_mode": {
        "name": "ipython",
        "version": 3
      },
      "file_extension": ".py",
      "mimetype": "text/x-python",
      "name": "python",
      "nbconvert_exporter": "python",
      "pygments_lexer": "ipython3",
      "version": "3.7.6"
    },
    "colab": {
      "name": "approach_3.ipynb",
      "provenance": [],
      "collapsed_sections": [],
      "include_colab_link": true
    },
    "accelerator": "GPU"
  },
  "cells": [
    {
      "cell_type": "markdown",
      "metadata": {
        "id": "view-in-github",
        "colab_type": "text"
      },
      "source": [
        "<a href=\"https://colab.research.google.com/github/Mulac/TDA-MNIST/blob/master/approach_3.ipynb\" target=\"_parent\"><img src=\"https://colab.research.google.com/assets/colab-badge.svg\" alt=\"Open In Colab\"/></a>"
      ]
    },
    {
      "cell_type": "markdown",
      "metadata": {
        "id": "MpRN5LKAOALQ",
        "colab_type": "text"
      },
      "source": [
        "https://github.com/pytorch/examples/blob/master/mnist/main.py\n",
        "\n",
        "https://towardsdatascience.com/handwritten-digit-mnist-pytorch-977b5338e627\n",
        "\n",
        "https://towardsdatascience.com/deep-learning-with-pytorch-a93b09bdae96"
      ]
    },
    {
      "cell_type": "code",
      "metadata": {
        "id": "GO6p1DzIOALT",
        "colab_type": "code",
        "colab": {}
      },
      "source": [
        "import torch\n",
        "import torch.nn as nn\n",
        "import torch.nn.functional as F\n",
        "import torchvision\n",
        "from torchvision import transforms\n",
        "import numpy as np \n",
        "import matplotlib.pyplot as plt"
      ],
      "execution_count": null,
      "outputs": []
    },
    {
      "cell_type": "markdown",
      "metadata": {
        "id": "O74oJoSzjSpM",
        "colab_type": "text"
      },
      "source": [
        "*Hyper parameters*"
      ]
    },
    {
      "cell_type": "code",
      "metadata": {
        "id": "fdZ_a3HFjRyi",
        "colab_type": "code",
        "colab": {}
      },
      "source": [
        "BATCH_SIZE = 5"
      ],
      "execution_count": null,
      "outputs": []
    },
    {
      "cell_type": "markdown",
      "metadata": {
        "id": "9ys2OYV7OALc",
        "colab_type": "text"
      },
      "source": [
        "## Prepare Data\n",
        "1. Download data and apply tranformations"
      ]
    },
    {
      "cell_type": "code",
      "metadata": {
        "id": "xwfTBG6DgR0v",
        "colab_type": "code",
        "colab": {}
      },
      "source": [
        "transform = transforms.Compose([transforms.ToTensor()])"
      ],
      "execution_count": null,
      "outputs": []
    },
    {
      "cell_type": "code",
      "metadata": {
        "id": "p3YrvQUtOALg",
        "colab_type": "code",
        "colab": {}
      },
      "source": [
        "train = torchvision.datasets.MNIST('./data/train', train=True, transform=transform, download=True)\n",
        "valid = torchvision.datasets.MNIST('./data/valid', train=False, transform=transform, download=True)"
      ],
      "execution_count": null,
      "outputs": []
    },
    {
      "cell_type": "markdown",
      "metadata": {
        "id": "tNIaTIB6OALm",
        "colab_type": "text"
      },
      "source": [
        "2. Check the data has right number of examples"
      ]
    },
    {
      "cell_type": "code",
      "metadata": {
        "id": "CUPm8km0OALp",
        "colab_type": "code",
        "colab": {
          "base_uri": "https://localhost:8080/",
          "height": 295
        },
        "outputId": "f3316be7-2018-4afc-9a6b-8e4b2b13ad55"
      },
      "source": [
        "print(train)\n",
        "print(valid)"
      ],
      "execution_count": null,
      "outputs": [
        {
          "output_type": "stream",
          "text": [
            "Dataset MNIST\n",
            "    Number of datapoints: 60000\n",
            "    Root location: ./data/train\n",
            "    Split: Train\n",
            "    StandardTransform\n",
            "Transform: Compose(\n",
            "               ToTensor()\n",
            "           )\n",
            "Dataset MNIST\n",
            "    Number of datapoints: 10000\n",
            "    Root location: ./data/valid\n",
            "    Split: Test\n",
            "    StandardTransform\n",
            "Transform: Compose(\n",
            "               ToTensor()\n",
            "           )\n"
          ],
          "name": "stdout"
        }
      ]
    },
    {
      "cell_type": "markdown",
      "metadata": {
        "id": "f4ifZsXuOALw",
        "colab_type": "text"
      },
      "source": [
        "3. Show the first training example and corresponding label (target)"
      ]
    },
    {
      "cell_type": "code",
      "metadata": {
        "id": "8078wGRvOALw",
        "colab_type": "code",
        "colab": {
          "base_uri": "https://localhost:8080/",
          "height": 317
        },
        "outputId": "8cc3301a-059e-4583-e747-aaa5eaecc435"
      },
      "source": [
        "example = 0\n",
        "\n",
        "img, label = train.data[example], train.targets[example]\n",
        "print(\"Shape:\", img.shape)\n",
        "print(\"Label:\", label.item())\n",
        "plt.imshow(img)\n"
      ],
      "execution_count": null,
      "outputs": [
        {
          "output_type": "stream",
          "text": [
            "Shape: torch.Size([28, 28])\n",
            "Label: 5\n"
          ],
          "name": "stdout"
        },
        {
          "output_type": "execute_result",
          "data": {
            "text/plain": [
              "<matplotlib.image.AxesImage at 0x7f2c2acaba58>"
            ]
          },
          "metadata": {
            "tags": []
          },
          "execution_count": 52
        },
        {
          "output_type": "display_data",
          "data": {
            "image/png": "[encoded data removed]",
            "text/plain": [
              "<Figure size 432x288 with 1 Axes>"
            ]
          },
          "metadata": {
            "tags": [],
            "needs_background": "light"
          }
        }
      ]
    },
    {
      "cell_type": "markdown",
      "metadata": {
        "id": "li_J5pJ9OAL2",
        "colab_type": "text"
      },
      "source": [
        "4. Package into a dataloader object ready to send to the model"
      ]
    },
    {
      "cell_type": "code",
      "metadata": {
        "id": "QKE9JJT0OAL3",
        "colab_type": "code",
        "colab": {}
      },
      "source": [
        "train_loader = torch.utils.data.DataLoader(train, batch_size = BATCH_SIZE, shuffle=False)\n",
        "valid_loader = torch.utils.data.DataLoader(valid)"
      ],
      "execution_count": null,
      "outputs": []
    },
    {
      "cell_type": "markdown",
      "metadata": {
        "id": "9S7pHfKJOAL9",
        "colab_type": "text"
      },
      "source": [
        "## Create Model\n",
        "Two ways to do this.  Either by inheriting from the Module class or by using nn.Sequential"
      ]
    },
    {
      "cell_type": "code",
      "metadata": {
        "id": "17uJubx0OAL_",
        "colab_type": "code",
        "colab": {
          "base_uri": "https://localhost:8080/",
          "height": 590
        },
        "outputId": "cd95b50c-c624-4052-fff0-3bd00b2b9eee"
      },
      "source": [
        "torchvision.models.vgg16().features"
      ],
      "execution_count": null,
      "outputs": [
        {
          "output_type": "execute_result",
          "data": {
            "text/plain": [
              "Sequential(\n",
              "  (0): Conv2d(3, 64, kernel_size=(3, 3), stride=(1, 1), padding=(1, 1))\n",
              "  (1): ReLU(inplace=True)\n",
              "  (2): Conv2d(64, 64, kernel_size=(3, 3), stride=(1, 1), padding=(1, 1))\n",
              "  (3): ReLU(inplace=True)\n",
              "  (4): MaxPool2d(kernel_size=2, stride=2, padding=0, dilation=1, ceil_mode=False)\n",
              "  (5): Conv2d(64, 128, kernel_size=(3, 3), stride=(1, 1), padding=(1, 1))\n",
              "  (6): ReLU(inplace=True)\n",
              "  (7): Conv2d(128, 128, kernel_size=(3, 3), stride=(1, 1), padding=(1, 1))\n",
              "  (8): ReLU(inplace=True)\n",
              "  (9): MaxPool2d(kernel_size=2, stride=2, padding=0, dilation=1, ceil_mode=False)\n",
              "  (10): Conv2d(128, 256, kernel_size=(3, 3), stride=(1, 1), padding=(1, 1))\n",
              "  (11): ReLU(inplace=True)\n",
              "  (12): Conv2d(256, 256, kernel_size=(3, 3), stride=(1, 1), padding=(1, 1))\n",
              "  (13): ReLU(inplace=True)\n",
              "  (14): Conv2d(256, 256, kernel_size=(3, 3), stride=(1, 1), padding=(1, 1))\n",
              "  (15): ReLU(inplace=True)\n",
              "  (16): MaxPool2d(kernel_size=2, stride=2, padding=0, dilation=1, ceil_mode=False)\n",
              "  (17): Conv2d(256, 512, kernel_size=(3, 3), stride=(1, 1), padding=(1, 1))\n",
              "  (18): ReLU(inplace=True)\n",
              "  (19): Conv2d(512, 512, kernel_size=(3, 3), stride=(1, 1), padding=(1, 1))\n",
              "  (20): ReLU(inplace=True)\n",
              "  (21): Conv2d(512, 512, kernel_size=(3, 3), stride=(1, 1), padding=(1, 1))\n",
              "  (22): ReLU(inplace=True)\n",
              "  (23): MaxPool2d(kernel_size=2, stride=2, padding=0, dilation=1, ceil_mode=False)\n",
              "  (24): Conv2d(512, 512, kernel_size=(3, 3), stride=(1, 1), padding=(1, 1))\n",
              "  (25): ReLU(inplace=True)\n",
              "  (26): Conv2d(512, 512, kernel_size=(3, 3), stride=(1, 1), padding=(1, 1))\n",
              "  (27): ReLU(inplace=True)\n",
              "  (28): Conv2d(512, 512, kernel_size=(3, 3), stride=(1, 1), padding=(1, 1))\n",
              "  (29): ReLU(inplace=True)\n",
              "  (30): MaxPool2d(kernel_size=2, stride=2, padding=0, dilation=1, ceil_mode=False)\n",
              ")"
            ]
          },
          "metadata": {
            "tags": []
          },
          "execution_count": 281
        }
      ]
    },
    {
      "cell_type": "code",
      "metadata": {
        "id": "69ArUqFQqc2F",
        "colab_type": "code",
        "colab": {}
      },
      "source": [
        "class CNN(nn.Module):\n",
        "  def __init__(self):\n",
        "    super(CNN, self).__init__()\n",
        "    self.conv1 = nn.Conv2d(in_channels = 1, out_channels = 10, kernel_size = 3)\n",
        "    #self.conv2 = nn.Conv2d(in_channels = 10, out_channels = 20, kernel_size = 3)\n",
        "\n",
        "    self.lin = nn.Linear(26*26*10, 10)\n",
        "\n",
        "    \n",
        "  def forward(self, input):\n",
        "    result = self.conv1(input)\n",
        "    result = F.relu(result)\n",
        "\n",
        "    #result = self.conv2(result)\n",
        "   # result = F.relu(result)\n",
        "\n",
        "    result = result.view(-1, 26*26*10)\n",
        "    result = self.lin(result)\n",
        "\n",
        "    #softmax lower case\n",
        "    return F.softmax(result, dim = 1)"
      ],
      "execution_count": 300,
      "outputs": []
    },
    {
      "cell_type": "markdown",
      "metadata": {
        "id": "vsOsHzbYfkgn",
        "colab_type": "text"
      },
      "source": [
        "Checking the models output from the frist training example"
      ]
    },
    {
      "cell_type": "markdown",
      "metadata": {
        "id": "z_qkBLQkOAMD",
        "colab_type": "text"
      },
      "source": [
        "### Choose loss function and optimiser\n",
        "e.g. Mean Squared Error (MSE) with Stochastic Gradient Decent (SGD)"
      ]
    },
    {
      "cell_type": "code",
      "metadata": {
        "id": "nMQtePtIdBw-",
        "colab_type": "code",
        "colab": {}
      },
      "source": [
        "model = CNN()\n",
        "criterion = torch.nn.CrossEntropyLoss()\n",
        "optimizer = torch.optim.SGD(model.parameters(), lr=0.001)"
      ],
      "execution_count": 301,
      "outputs": []
    },
    {
      "cell_type": "markdown",
      "metadata": {
        "id": "zRrG17fuOAME",
        "colab_type": "text"
      },
      "source": [
        "### Define training loop\n",
        "\n",
        "Grab batch from data loader; make model predictions; calculate loss; compute gradients; update weights;"
      ]
    },
    {
      "cell_type": "code",
      "metadata": {
        "id": "fOjNHvm5OAMF",
        "colab_type": "code",
        "colab": {}
      },
      "source": [
        "def train():\n",
        "  total = 0\n",
        "  correct = 0\n",
        "  for images, labels in train_loader:\n",
        "    predictions = model(images)\n",
        "    loss = criterion(predictions, labels)\n",
        "    loss.backward()\n",
        "    optimizer.step()\n",
        "    optimizer.zero_grad()\n",
        "    total += BATCH_SIZE\n",
        "    correct += (torch.argmax(predictions,dim=1) == labels).sum().item()\n",
        "  print(\"Accuracy: \" + str(correct/total * 100))"
      ],
      "execution_count": null,
      "outputs": []
    },
    {
      "cell_type": "markdown",
      "metadata": {
        "id": "pm-TDGE6OAMJ",
        "colab_type": "text"
      },
      "source": [
        "### Execute training loop\n",
        "Can be in a for loop for multiple epochs (number of passes through the whole dataset)"
      ]
    },
    {
      "cell_type": "code",
      "metadata": {
        "id": "EvnYICg7OAML",
        "colab_type": "code",
        "colab": {
          "base_uri": "https://localhost:8080/",
          "height": 68
        },
        "outputId": "5476cf2a-9ff4-45fb-a044-cc4348f038f0"
      },
      "source": [
        "epochs = 3\n",
        "for epoch in range(epochs):\n",
        "  train()\n",
        "  "
      ],
      "execution_count": null,
      "outputs": [
        {
          "output_type": "stream",
          "text": [
            "Accuracy: 56.93666666666667\n",
            "Accuracy: 85.07166666666667\n",
            "Accuracy: 89.99166666666667\n"
          ],
          "name": "stdout"
        }
      ]
    },
    {
      "cell_type": "markdown",
      "metadata": {
        "id": "l1OG_xsYOAMP",
        "colab_type": "text"
      },
      "source": [
        "### Evaluate Model\n",
        "Uses the validation set to test the model"
      ]
    },
    {
      "cell_type": "code",
      "metadata": {
        "id": "G2giFZYlWTQX",
        "colab_type": "code",
        "colab": {
          "base_uri": "https://localhost:8080/",
          "height": 131
        },
        "outputId": "f4f6182f-6e24-44fe-b85a-bfb552f6d45e"
      },
      "source": [
        "#valid_loader not using batch size 5 so error thrown\n",
        "\n",
        "\n",
        "\n",
        "# When performing evaluation it's good to work in the torch.no_grad context,\n",
        "# this will save memory and won't compute any gradients\n",
        "#\n",
        "# We would also need to switch the network into evaluation mode before this \n",
        "# when we start adding more layers that behave differently for training like\n",
        "# Dropout and Batchnorm layers.  Don't forget to switch back to training mode.\n",
        "\n",
        "#model.eval()\n",
        "#model.train()\n",
        "\n",
        "with torch.no_grad():\n",
        "  image, label = next(iter(valid_loader))\n",
        "print(image.size())\n",
        "\n",
        "def get_all_preds(model, loader):\n",
        "    all_preds = torch.tensor([])\n",
        "    for batch in loader:\n",
        "        images, labels = batch\n",
        "\n",
        "        preds = max(model(images))\n",
        "        all_preds = torch.cat(\n",
        "            (all_preds, preds)\n",
        "            ,dim=0\n",
        "        )\n",
        "    return all_preds\n",
        "\n",
        "  print(get_all_preds(model, valid_loader))\n",
        "  print(get_all_preds(model, valid_loader).size()\n",
        "  output = model(image)\n",
        "  print(torch.max(output,1)[1].item())"
      ],
      "execution_count": null,
      "outputs": [
        {
          "output_type": "error",
          "ename": "IndentationError",
          "evalue": "ignored",
          "traceback": [
            "\u001b[0;36m  File \u001b[0;32m\"<ipython-input-66-03711719bddd>\"\u001b[0;36m, line \u001b[0;32m31\u001b[0m\n\u001b[0;31m    print(get_all_preds(model, valid_loader))\u001b[0m\n\u001b[0m                                             ^\u001b[0m\n\u001b[0;31mIndentationError\u001b[0m\u001b[0;31m:\u001b[0m unindent does not match any outer indentation level\n"
          ]
        }
      ]
    },
    {
      "cell_type": "code",
      "metadata": {
        "id": "fmJvDneOoNPz",
        "colab_type": "code",
        "colab": {}
      },
      "source": [
        "plt.imshow(image.squeeze())  "
      ],
      "execution_count": null,
      "outputs": []
    },
    {
      "cell_type": "code",
      "metadata": {
        "id": "0wKCaDy_Vcrh",
        "colab_type": "code",
        "colab": {}
      },
      "source": [
        "model"
      ],
      "execution_count": null,
      "outputs": []
    },
    {
      "cell_type": "code",
      "metadata": {
        "id": "YQa95gJ0bpx2",
        "colab_type": "code",
        "colab": {}
      },
      "source": [
        "class LayerVisualisation():\n",
        "  \"\"\" \n",
        "    Produces an image that maximally excites a convolutional opertation\n",
        "    for a specific layer and filter.\n",
        "  \"\"\"\n",
        "\n",
        "  def __init__(self, model, layer):\n",
        "    self.model = model\n",
        "    self.model.eval()\n",
        "    self.sel_layer = list(self.model.children())[layer]\n",
        "    self.hook = self.sel_layer.register_forward_hook(self.hook_fn)\n",
        "\n",
        "  def hook_fn(self, module, input, output):\n",
        "    self.activations = output\n",
        "\n",
        "  def activation_map(self, filter_id):\n",
        "    return self.activations[0, filter_id]\n",
        "\n",
        "  def visualise_filter(self, filter_id, lr=0.01, steps=30):\n",
        "    random_image = torch.rand((28, 28))\n",
        "  \n",
        "  def close(self):\n",
        "    self.hook.remove()"
      ],
      "execution_count": 311,
      "outputs": []
    },
    {
      "cell_type": "code",
      "metadata": {
        "id": "fgdR90p6dU-r",
        "colab_type": "code",
        "colab": {}
      },
      "source": [
        "conv_layer = LayerVisualisation(model, 0)"
      ],
      "execution_count": 312,
      "outputs": []
    },
    {
      "cell_type": "code",
      "metadata": {
        "id": "B6FBW7avOg_N",
        "colab_type": "code",
        "colab": {}
      },
      "source": [
        "with torch.no_grad():\n",
        "  image, label = next(iter(valid_loader))\n",
        "  model(image)"
      ],
      "execution_count": 313,
      "outputs": []
    },
    {
      "cell_type": "code",
      "metadata": {
        "id": "Sv-gAXwkyop6",
        "colab_type": "code",
        "colab": {
          "base_uri": "https://localhost:8080/",
          "height": 436
        },
        "outputId": "1a0ba5ce-8ea0-4334-ab2c-d7225759fb15"
      },
      "source": [
        "fig = plt.figure(figsize=(10, 10)) \n",
        "\n",
        "for filter in range(10):\n",
        "    ax = fig.add_subplot(4, 4, filter+1, xticks=[], yticks=[])\n",
        "    ax.imshow(conv_layer.activation_map(filter))"
      ],
      "execution_count": 317,
      "outputs": [
        {
          "output_type": "display_data",
          "data": {
            "image/png": "[encoded data removed]",
            "text/plain": [
              "<Figure size 720x720 with 10 Axes>"
            ]
          },
          "metadata": {
            "tags": []
          }
        }
      ]
    }
  ]
}