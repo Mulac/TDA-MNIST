{
  "nbformat": 4,
  "nbformat_minor": 0,
  "metadata": {
    "kernelspec": {
      "display_name": "Python 3",
      "language": "python",
      "name": "python3"
    },
    "language_info": {
      "codemirror_mode": {
        "name": "ipython",
        "version": 3
      },
      "file_extension": ".py",
      "mimetype": "text/x-python",
      "name": "python",
      "nbconvert_exporter": "python",
      "pygments_lexer": "ipython3",
      "version": "3.7.6"
    },
    "colab": {
      "name": "approach_3.ipynb",
      "provenance": [],
      "collapsed_sections": [],
      "include_colab_link": true
    },
    "accelerator": "GPU"
  },
  "cells": [
    {
      "cell_type": "markdown",
      "metadata": {
        "id": "view-in-github",
        "colab_type": "text"
      },
      "source": [
        "<a href=\"https://colab.research.google.com/github/Mulac/TDA-MNIST/blob/master/approach_3.ipynb\" target=\"_parent\"><img src=\"https://colab.research.google.com/assets/colab-badge.svg\" alt=\"Open In Colab\"/></a>"
      ]
    },
    {
      "cell_type": "markdown",
      "metadata": {
        "id": "MpRN5LKAOALQ",
        "colab_type": "text"
      },
      "source": [
        "https://github.com/pytorch/examples/blob/master/mnist/main.py\n",
        "\n",
        "https://towardsdatascience.com/handwritten-digit-mnist-pytorch-977b5338e627\n",
        "\n",
        "https://towardsdatascience.com/deep-learning-with-pytorch-a93b09bdae96"
      ]
    },
    {
      "cell_type": "code",
      "metadata": {
        "id": "GO6p1DzIOALT",
        "colab_type": "code",
        "colab": {}
      },
      "source": [
        "import torch\n",
        "import torch.nn as nn\n",
        "import torchvision\n",
        "from torchvision import transforms\n",
        "import numpy as np \n",
        "import matplotlib.pyplot as plt "
      ],
      "execution_count": 96,
      "outputs": []
    },
    {
      "cell_type": "markdown",
      "metadata": {
        "id": "9ys2OYV7OALc",
        "colab_type": "text"
      },
      "source": [
        "### Prepare Data\n",
        "1. Download data (there's a step before this we can take to add transformations to the data)"
      ]
    },
    {
      "cell_type": "code",
      "metadata": {
        "id": "xwfTBG6DgR0v",
        "colab_type": "code",
        "colab": {}
      },
      "source": [
        "transform = transforms.Compose([transforms.ToTensor()])"
      ],
      "execution_count": 102,
      "outputs": []
    },
    {
      "cell_type": "code",
      "metadata": {
        "id": "p3YrvQUtOALg",
        "colab_type": "code",
        "colab": {}
      },
      "source": [
        "train = torchvision.datasets.MNIST('./data/train', train=True, transform=transform, download=True)\n",
        "valid = torchvision.datasets.MNIST('./data/valid', train=False, transform=None, download=True)"
      ],
      "execution_count": 103,
      "outputs": []
    },
    {
      "cell_type": "markdown",
      "metadata": {
        "id": "tNIaTIB6OALm",
        "colab_type": "text"
      },
      "source": [
        "2. Check the data has right number of examples"
      ]
    },
    {
      "cell_type": "code",
      "metadata": {
        "id": "CUPm8km0OALp",
        "colab_type": "code",
        "colab": {
          "base_uri": "https://localhost:8080/",
          "height": 208
        },
        "outputId": "ca1fc090-b73d-41bf-e5ea-e82ab88a0404"
      },
      "source": [
        "train, valid"
      ],
      "execution_count": 104,
      "outputs": [
        {
          "output_type": "execute_result",
          "data": {
            "text/plain": [
              "(Dataset MNIST\n",
              "     Number of datapoints: 60000\n",
              "     Root location: ./data/train\n",
              "     Split: Train\n",
              "     StandardTransform\n",
              " Transform: Compose(\n",
              "                ToTensor()\n",
              "            ), Dataset MNIST\n",
              "     Number of datapoints: 10000\n",
              "     Root location: ./data/valid\n",
              "     Split: Test)"
            ]
          },
          "metadata": {
            "tags": []
          },
          "execution_count": 104
        }
      ]
    },
    {
      "cell_type": "markdown",
      "metadata": {
        "id": "f4ifZsXuOALw",
        "colab_type": "text"
      },
      "source": [
        "3. Show the first training examlpe and corresponding label (target)"
      ]
    },
    {
      "cell_type": "code",
      "metadata": {
        "id": "8078wGRvOALw",
        "colab_type": "code",
        "colab": {
          "base_uri": "https://localhost:8080/",
          "height": 317
        },
        "outputId": "735a3a04-4995-44b5-a5c5-0fe3bd729572"
      },
      "source": [
        "example = 0\n",
        "\n",
        "img, label = train.data[example], train.targets[example]\n",
        "print(\"Shape:\", img.shape)\n",
        "print(\"Label:\", label.item())\n",
        "plt.imshow(img)"
      ],
      "execution_count": 105,
      "outputs": [
        {
          "output_type": "stream",
          "text": [
            "Shape: torch.Size([28, 28])\n",
            "Label: 5\n"
          ],
          "name": "stdout"
        },
        {
          "output_type": "execute_result",
          "data": {
            "text/plain": [
              "<matplotlib.image.AxesImage at 0x7f0e00c993c8>"
            ]
          },
          "metadata": {
            "tags": []
          },
          "execution_count": 105
        },
        {
          "output_type": "display_data",
          "data": {
            "image/png": "[encoded data removed]",
            "text/plain": [
              "<Figure size 432x288 with 1 Axes>"
            ]
          },
          "metadata": {
            "tags": [],
            "needs_background": "light"
          }
        }
      ]
    },
    {
      "cell_type": "markdown",
      "metadata": {
        "id": "li_J5pJ9OAL2",
        "colab_type": "text"
      },
      "source": [
        "4. Package into a dataloader object ready to send to the model"
      ]
    },
    {
      "cell_type": "code",
      "metadata": {
        "id": "QKE9JJT0OAL3",
        "colab_type": "code",
        "colab": {}
      },
      "source": [
        "train_loader = torch.utils.data.DataLoader(train, batch_size=1, shuffle=False)\n",
        "valid_loader = torch.utils.data.DataLoader(valid)"
      ],
      "execution_count": 116,
      "outputs": []
    },
    {
      "cell_type": "markdown",
      "metadata": {
        "id": "9S7pHfKJOAL9",
        "colab_type": "text"
      },
      "source": [
        "### Create Model\n",
        "Two ways to do this.  Either by inheriting from the Module class or by using nn.Sequential"
      ]
    },
    {
      "cell_type": "code",
      "metadata": {
        "id": "17uJubx0OAL_",
        "colab_type": "code",
        "colab": {}
      },
      "source": [
        "model = nn.Sequential(nn.Conv2d(in_channels = 1, out_channels = 1, kernel_size = 3),\n",
        "                      nn.ReLU(),\n",
        "                      nn.Flatten(),\n",
        "                      nn.Linear(26*26, 10))"
      ],
      "execution_count": 134,
      "outputs": []
    },
    {
      "cell_type": "code",
      "metadata": {
        "id": "G2giFZYlWTQX",
        "colab_type": "code",
        "colab": {
          "base_uri": "https://localhost:8080/",
          "height": 52
        },
        "outputId": "a51911ee-100a-4e09-fe4d-f2629142ed50"
      },
      "source": [
        "images, labels = next(iter(train_loader))\n",
        "\n",
        "output = model(images)\n",
        "output"
      ],
      "execution_count": 136,
      "outputs": [
        {
          "output_type": "execute_result",
          "data": {
            "text/plain": [
              "tensor([[ 0.0356,  0.0491, -0.0529,  0.0040, -0.0616,  0.0347,  0.0834,  0.0264,\n",
              "          0.0323,  0.0341]], grad_fn=<AddmmBackward>)"
            ]
          },
          "metadata": {
            "tags": []
          },
          "execution_count": 136
        }
      ]
    },
    {
      "cell_type": "markdown",
      "metadata": {
        "id": "z_qkBLQkOAMD",
        "colab_type": "text"
      },
      "source": [
        "### Choose loss function and optimiser\n",
        "e.g. Mean Squared Error (MSE) with Stochastic Gradient Decent (SGD)"
      ]
    },
    {
      "cell_type": "markdown",
      "metadata": {
        "id": "zRrG17fuOAME",
        "colab_type": "text"
      },
      "source": [
        "### Define training loop\n",
        "Grab batch from data loader; make model predictions; calculate loss; compute gradients; update weights;"
      ]
    },
    {
      "cell_type": "code",
      "metadata": {
        "id": "fOjNHvm5OAMF",
        "colab_type": "code",
        "colab": {}
      },
      "source": [
        ""
      ],
      "execution_count": null,
      "outputs": []
    },
    {
      "cell_type": "markdown",
      "metadata": {
        "id": "pm-TDGE6OAMJ",
        "colab_type": "text"
      },
      "source": [
        "### Execute training loop\n",
        "Can be in a for loop for multiple epochs (number of passes through the whole dataset)"
      ]
    },
    {
      "cell_type": "code",
      "metadata": {
        "id": "EvnYICg7OAML",
        "colab_type": "code",
        "colab": {}
      },
      "source": [
        ""
      ],
      "execution_count": null,
      "outputs": []
    },
    {
      "cell_type": "markdown",
      "metadata": {
        "id": "l1OG_xsYOAMP",
        "colab_type": "text"
      },
      "source": [
        "### Evaluate Model\n",
        "Uses the validation set to test the model"
      ]
    },
    {
      "cell_type": "code",
      "metadata": {
        "id": "w7n9vULwOAMQ",
        "colab_type": "code",
        "colab": {}
      },
      "source": [
        ""
      ],
      "execution_count": null,
      "outputs": []
    }
  ]
}