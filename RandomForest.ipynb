{
  "nbformat": 4,
  "nbformat_minor": 0,
  "metadata": {
    "colab": {
      "name": "RandomForest.ipynb",
      "provenance": [],
      "collapsed_sections": [],
      "authorship_tag": "ABX9TyO7NIjdhrD45MR5VKr7NJwm",
      "include_colab_link": true
    },
    "kernelspec": {
      "name": "python3",
      "display_name": "Python 3"
    }
  },
  "cells": [
    {
      "cell_type": "markdown",
      "metadata": {
        "id": "view-in-github",
        "colab_type": "text"
      },
      "source": [
        "<a href=\"https://colab.research.google.com/github/Mulac/TDA-MNIST/blob/master/RandomForest.ipynb\" target=\"_parent\"><img src=\"https://colab.research.google.com/assets/colab-badge.svg\" alt=\"Open In Colab\"/></a>"
      ]
    },
    {
      "cell_type": "code",
      "metadata": {
        "id": "4m7IUpLppTAk",
        "colab_type": "code",
        "colab": {}
      },
      "source": [
        "import numpy as np\n",
        "import matplotlib\n",
        "import matplotlib.pyplot as plt\n",
        "from sklearn.ensemble import RandomForestClassifier\n",
        "from sklearn.metrics import classification_report\n",
        "from tensorflow.keras.datasets import mnist\n",
        "from timeit import default_timer as timer"
      ],
      "execution_count": 2,
      "outputs": []
    },
    {
      "cell_type": "markdown",
      "metadata": {
        "id": "2BwHbTDkrvDD",
        "colab_type": "text"
      },
      "source": [
        "# Prepare Data\n",
        "\n",
        "  1. Download the training and test date from tensorflow\n",
        "  2. Flatten the 2D 28 x 28 pixel arrays into a 1D 784 pixel array\n"
      ]
    },
    {
      "cell_type": "code",
      "metadata": {
        "id": "g20got9kpwAd",
        "colab_type": "code",
        "colab": {
          "base_uri": "https://localhost:8080/",
          "height": 54
        },
        "outputId": "6b3b1753-0ef2-43a9-95f0-3d33f84fed72"
      },
      "source": [
        "(train_data, train_labels), (test_data, test_labels) = mnist.load_data()\n",
        "\n",
        "train_data_flat = []\n",
        "for datapoint in train_data:\n",
        "  train_data_flat.append(datapoint.flatten())\n",
        "\n",
        "test_data_flat = []\n",
        "for datapoint in test_data:\n",
        "  test_data_flat.append(datapoint.flatten())"
      ],
      "execution_count": 4,
      "outputs": [
        {
          "output_type": "stream",
          "text": [
            "Downloading data from https://storage.googleapis.com/tensorflow/tf-keras-datasets/mnist.npz\n",
            "11493376/11490434 [==============================] - 0s 0us/step\n"
          ],
          "name": "stdout"
        }
      ]
    },
    {
      "cell_type": "markdown",
      "metadata": {
        "id": "DUzeMbknsHFQ",
        "colab_type": "text"
      },
      "source": [
        "# Finding optimal parameters\n",
        "By changing the number of trees in the forest we can try to determine the optimal number of trees. The following cell: \n",
        " - Trains a random forest model, incrementing the number of trees by 5 on each iteration\n",
        " - The time and accuracy of each model is recorded"
      ]
    },
    {
      "cell_type": "code",
      "metadata": {
        "id": "e7HdDwqYpymJ",
        "colab_type": "code",
        "colab": {}
      },
      "source": [
        "scores = {}\n",
        "train_times = {}\n",
        "for i in range (5,105,5):\n",
        "  rf_model = RandomForestClassifier(n_estimators=i)\n",
        "  start = timer()\n",
        "  rf_model.fit(train_data_flat,train_labels)\n",
        "  end = timer()\n",
        "  scores[str(i)] = rf_model.score(test_data_flat,test_labels)\n",
        "  train_times[str(i)] = (end-start)\n"
      ],
      "execution_count": null,
      "outputs": []
    },
    {
      "cell_type": "code",
      "metadata": {
        "id": "cxVG-8Zt0PjQ",
        "colab_type": "code",
        "colab": {
          "base_uri": "https://localhost:8080/",
          "height": 752
        },
        "outputId": "19b223df-c146-45e0-e03a-c926a594e879"
      },
      "source": [
        "for x in scores:\n",
        "  print(f\"Num of trees: {x} \\tAccuracy: {scores[x]} \\tTime:{train_times[x]:.2f}s\\n\")"
      ],
      "execution_count": null,
      "outputs": [
        {
          "output_type": "stream",
          "text": [
            "Num of trees: 5 \tAccuracy: 0.9229 \tTime:2.31s\n",
            "\n",
            "Num of trees: 10 \tAccuracy: 0.9473 \tTime:4.48s\n",
            "\n",
            "Num of trees: 15 \tAccuracy: 0.9575 \tTime:6.79s\n",
            "\n",
            "Num of trees: 20 \tAccuracy: 0.9593 \tTime:8.87s\n",
            "\n",
            "Num of trees: 25 \tAccuracy: 0.9641 \tTime:11.17s\n",
            "\n",
            "Num of trees: 30 \tAccuracy: 0.9641 \tTime:13.37s\n",
            "\n",
            "Num of trees: 35 \tAccuracy: 0.9629 \tTime:15.76s\n",
            "\n",
            "Num of trees: 40 \tAccuracy: 0.966 \tTime:18.24s\n",
            "\n",
            "Num of trees: 45 \tAccuracy: 0.9676 \tTime:19.91s\n",
            "\n",
            "Num of trees: 50 \tAccuracy: 0.9679 \tTime:22.41s\n",
            "\n",
            "Num of trees: 55 \tAccuracy: 0.9668 \tTime:24.54s\n",
            "\n",
            "Num of trees: 60 \tAccuracy: 0.9668 \tTime:26.89s\n",
            "\n",
            "Num of trees: 65 \tAccuracy: 0.9677 \tTime:29.10s\n",
            "\n",
            "Num of trees: 70 \tAccuracy: 0.969 \tTime:31.13s\n",
            "\n",
            "Num of trees: 75 \tAccuracy: 0.9692 \tTime:33.40s\n",
            "\n",
            "Num of trees: 80 \tAccuracy: 0.9696 \tTime:35.62s\n",
            "\n",
            "Num of trees: 85 \tAccuracy: 0.9687 \tTime:37.41s\n",
            "\n",
            "Num of trees: 90 \tAccuracy: 0.9705 \tTime:39.97s\n",
            "\n",
            "Num of trees: 95 \tAccuracy: 0.9688 \tTime:42.59s\n",
            "\n",
            "Num of trees: 100 \tAccuracy: 0.9714 \tTime:44.33s\n",
            "\n"
          ],
          "name": "stdout"
        }
      ]
    },
    {
      "cell_type": "markdown",
      "metadata": {
        "id": "Ri_OiT5dYn2h",
        "colab_type": "text"
      },
      "source": [
        "It is clear to see that as you increase the number of trees in the model the accuracy and time taken to train the model increases aswell.\n",
        "However, the accuracy of the model plateaus around 97% accuracy."
      ]
    },
    {
      "cell_type": "code",
      "metadata": {
        "id": "ODvTircx3bI0",
        "colab_type": "code",
        "colab": {
          "base_uri": "https://localhost:8080/",
          "height": 295
        },
        "outputId": "4adc58e7-72e7-4707-d35f-b8aa582c03fa"
      },
      "source": [
        "times = list(train_times.values())\n",
        "accuracy = list(scores.values())\n",
        "trees = list(scores.values())\n",
        "fig, ax = plt.subplots()\n",
        "ax.scatter(times,accuracy)\n",
        "ax.set(xlabel=\"training time (s)\", ylabel =\"Accuracy\", title=\"Accuracy of the model against the training time\")\n",
        "ax.grid()\n",
        "plt.show()"
      ],
      "execution_count": null,
      "outputs": [
        {
          "output_type": "display_data",
          "data": {
            "image/png": "[encoded data removed]",
            "text/plain": [
              "<Figure size 432x288 with 1 Axes>"
            ]
          },
          "metadata": {
            "tags": [],
            "needs_background": "light"
          }
        }
      ]
    },
    {
      "cell_type": "markdown",
      "metadata": {
        "id": "F661UnwGdZ_2",
        "colab_type": "text"
      },
      "source": [
        "The graph shows that an accuracy of 96.4% can be achieved in 11 seconds. This corresponds to 25 trees in the forest. A slightly higher accuracy can be achieved by increasing the number of trees however this greatly increases the training time."
      ]
    },
    {
      "cell_type": "markdown",
      "metadata": {
        "id": "zR17AaNzsTYu",
        "colab_type": "text"
      },
      "source": [
        "# Testing the Model\n",
        "\n",
        "The results show a 97.1% accuracy with N-estimators set to 100"
      ]
    },
    {
      "cell_type": "code",
      "metadata": {
        "id": "YS04mBKI7fen",
        "colab_type": "code",
        "colab": {
          "base_uri": "https://localhost:8080/",
          "height": 35
        },
        "outputId": "be5e980d-16c7-4dbc-ca68-a2d8bd698190"
      },
      "source": [
        "optimal_rf_model = RandomForestClassifier(n_estimators=25)\n",
        "optimal_rf_model.fit(train_data_flat,train_labels)\n",
        "print(optimal_rf_model.score(test_data_flat,test_labels))\n"
      ],
      "execution_count": 6,
      "outputs": [
        {
          "output_type": "stream",
          "text": [
            "0.9643\n"
          ],
          "name": "stdout"
        }
      ]
    },
    {
      "cell_type": "code",
      "metadata": {
        "id": "-8MytKvmrAeQ",
        "colab_type": "code",
        "colab": {
          "base_uri": "https://localhost:8080/",
          "height": 348
        },
        "outputId": "0e7368e9-baef-47bd-c378-fa8ba8c44243"
      },
      "source": [
        "results = optimal_rf_model.predict(test_data_flat)\n",
        "print(\"K Nearest Neighbour Results\")\n",
        "print(classification_report(test_labels, results))"
      ],
      "execution_count": 7,
      "outputs": [
        {
          "output_type": "stream",
          "text": [
            "K Nearest Neighbour Results\n",
            "              precision    recall  f1-score   support\n",
            "\n",
            "           0       0.98      0.99      0.98       980\n",
            "           1       0.99      0.99      0.99      1135\n",
            "           2       0.95      0.96      0.95      1032\n",
            "           3       0.95      0.95      0.95      1010\n",
            "           4       0.96      0.97      0.97       982\n",
            "           5       0.96      0.95      0.95       892\n",
            "           6       0.97      0.98      0.97       958\n",
            "           7       0.97      0.96      0.96      1028\n",
            "           8       0.95      0.95      0.95       974\n",
            "           9       0.96      0.94      0.95      1009\n",
            "\n",
            "    accuracy                           0.96     10000\n",
            "   macro avg       0.96      0.96      0.96     10000\n",
            "weighted avg       0.96      0.96      0.96     10000\n",
            "\n"
          ],
          "name": "stdout"
        }
      ]
    }
  ]
}