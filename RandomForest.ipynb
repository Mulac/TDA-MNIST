{
  "nbformat": 4,
  "nbformat_minor": 0,
  "metadata": {
    "colab": {
      "name": "RandomForest.ipynb",
      "provenance": [],
      "collapsed_sections": [],
      "authorship_tag": "ABX9TyOWSr4uMTrJs2H+tOUklkrg",
      "include_colab_link": true
    },
    "kernelspec": {
      "name": "python3",
      "display_name": "Python 3"
    }
  },
  "cells": [
    {
      "cell_type": "markdown",
      "metadata": {
        "id": "view-in-github",
        "colab_type": "text"
      },
      "source": [
        "<a href=\"https://colab.research.google.com/github/Mulac/TDA-MNIST/blob/master/RandomForest.ipynb\" target=\"_parent\"><img src=\"https://colab.research.google.com/assets/colab-badge.svg\" alt=\"Open In Colab\"/></a>"
      ]
    },
    {
      "cell_type": "code",
      "metadata": {
        "id": "4m7IUpLppTAk",
        "colab_type": "code",
        "colab": {}
      },
      "source": [
        "import numpy as np\n",
        "from sklearn.ensemble import RandomForestClassifier\n",
        "from sklearn.metrics import classification_report\n",
        "from tensorflow.keras.datasets import mnist"
      ],
      "execution_count": 2,
      "outputs": []
    },
    {
      "cell_type": "markdown",
      "metadata": {
        "id": "2BwHbTDkrvDD",
        "colab_type": "text"
      },
      "source": [
        "# Prepare Data\n",
        "\n",
        "  1. Download the training and test date from tensorflow\n",
        "  2. Flatten the 2D 28 x 28 pixel arrays into a 1D 784 pixel array\n"
      ]
    },
    {
      "cell_type": "code",
      "metadata": {
        "id": "g20got9kpwAd",
        "colab_type": "code",
        "colab": {
          "base_uri": "https://localhost:8080/",
          "height": 54
        },
        "outputId": "effcd5f1-856e-4929-9d96-26f364c13dbf"
      },
      "source": [
        "(train_data, train_labels), (test_data, test_labels) = mnist.load_data()\n",
        "\n",
        "train_data_flat = []\n",
        "for datapoint in train_data:\n",
        "  train_data_flat.append(datapoint.flatten())\n",
        "\n",
        "test_data_flat = []\n",
        "for datapoint in test_data:\n",
        "  test_data_flat.append(datapoint.flatten())"
      ],
      "execution_count": 3,
      "outputs": [
        {
          "output_type": "stream",
          "text": [
            "Downloading data from https://storage.googleapis.com/tensorflow/tf-keras-datasets/mnist.npz\n",
            "11493376/11490434 [==============================] - 0s 0us/step\n"
          ],
          "name": "stdout"
        }
      ]
    },
    {
      "cell_type": "markdown",
      "metadata": {
        "id": "DUzeMbknsHFQ",
        "colab_type": "text"
      },
      "source": [
        "# Create Random Forest Model\n",
        "\n",
        "Toggle n_estimators paramator for best results"
      ]
    },
    {
      "cell_type": "code",
      "metadata": {
        "id": "e7HdDwqYpymJ",
        "colab_type": "code",
        "colab": {
          "base_uri": "https://localhost:8080/",
          "height": 35
        },
        "outputId": "4d9e08e1-c73a-4071-cabe-4d28327f3d02"
      },
      "source": [
        "rf_model = RandomForestClassifier(n_estimators=50)\n",
        "rf_model.fit(train_data_flat,train_labels)\n",
        "rf_model.score(test_data_flat,test_labels)"
      ],
      "execution_count": 16,
      "outputs": [
        {
          "output_type": "execute_result",
          "data": {
            "text/plain": [
              "0.9677"
            ]
          },
          "metadata": {
            "tags": []
          },
          "execution_count": 16
        }
      ]
    },
    {
      "cell_type": "markdown",
      "metadata": {
        "id": "zR17AaNzsTYu",
        "colab_type": "text"
      },
      "source": [
        "# Testing the Model\n",
        "\n",
        "The results show a 97% accuracy with N-estimators set to 50"
      ]
    },
    {
      "cell_type": "code",
      "metadata": {
        "id": "-8MytKvmrAeQ",
        "colab_type": "code",
        "colab": {
          "base_uri": "https://localhost:8080/",
          "height": 348
        },
        "outputId": "4706d69e-fefa-4577-b6e2-920ec176d5ce"
      },
      "source": [
        "results = rf_model.predict(test_data_flat)\n",
        "print(\"K Nearest Neighbour Results\")\n",
        "print(classification_report(test_labels, results))"
      ],
      "execution_count": 15,
      "outputs": [
        {
          "output_type": "stream",
          "text": [
            "K Nearest Neighbour Results\n",
            "              precision    recall  f1-score   support\n",
            "\n",
            "           0       0.97      0.99      0.98       980\n",
            "           1       0.99      0.99      0.99      1135\n",
            "           2       0.96      0.97      0.96      1032\n",
            "           3       0.96      0.96      0.96      1010\n",
            "           4       0.96      0.97      0.97       982\n",
            "           5       0.96      0.96      0.96       892\n",
            "           6       0.97      0.97      0.97       958\n",
            "           7       0.97      0.96      0.97      1028\n",
            "           8       0.95      0.95      0.95       974\n",
            "           9       0.95      0.94      0.95      1009\n",
            "\n",
            "    accuracy                           0.97     10000\n",
            "   macro avg       0.97      0.97      0.97     10000\n",
            "weighted avg       0.97      0.97      0.97     10000\n",
            "\n"
          ],
          "name": "stdout"
        }
      ]
    }
  ]
}